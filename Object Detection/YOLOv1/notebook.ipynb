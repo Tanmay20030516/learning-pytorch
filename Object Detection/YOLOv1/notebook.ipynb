{
 "cells": [
  {
   "cell_type": "code",
   "execution_count": 1,
   "id": "cbdef521",
   "metadata": {
    "_cell_guid": "b1076dfc-b9ad-4769-8c92-a6c4dae69d19",
    "_uuid": "8f2839f25d086af736a60e9eeb907d3b93b6e0e5",
    "execution": {
     "iopub.execute_input": "2023-10-26T13:05:41.828860Z",
     "iopub.status.busy": "2023-10-26T13:05:41.828555Z",
     "iopub.status.idle": "2023-10-26T13:05:42.606163Z",
     "shell.execute_reply": "2023-10-26T13:05:42.605237Z"
    },
    "papermill": {
     "duration": 0.790909,
     "end_time": "2023-10-26T13:05:42.608406",
     "exception": false,
     "start_time": "2023-10-26T13:05:41.817497",
     "status": "completed"
    },
    "tags": []
   },
   "outputs": [],
   "source": [
    "# This Python 3 environment comes with many helpful analytics libraries installed\n",
    "# It is defined by the kaggle/python Docker image: https://github.com/kaggle/docker-python\n",
    "# For example, here's several helpful packages to load\n",
    "\n",
    "import numpy as np # linear algebra\n",
    "import pandas as pd # data processing, CSV file I/O (e.g. pd.read_csv)\n",
    "\n",
    "# Input data files are available in the read-only \"../input/\" directory\n",
    "# For example, running this (by clicking run or pressing Shift+Enter) will list all files under the input directory\n",
    "\n",
    "import os\n",
    "for dirname, _, filenames in os.walk('/kaggle/input'):\n",
    "    for filename in filenames:\n",
    "        print(os.path.join(dirname, filename))\n",
    "\n",
    "# You can write up to 20GB to the current directory (/kaggle/working/) that gets preserved as output when you create a version using \"Save & Run All\" \n",
    "# You can also write temporary files to /kaggle/temp/, but they won't be saved outside of the current session"
   ]
  },
  {
   "cell_type": "code",
   "execution_count": 2,
   "id": "c99ca2c9",
   "metadata": {
    "execution": {
     "iopub.execute_input": "2023-10-26T13:05:42.629101Z",
     "iopub.status.busy": "2023-10-26T13:05:42.628726Z",
     "iopub.status.idle": "2023-10-26T13:06:29.748262Z",
     "shell.execute_reply": "2023-10-26T13:06:29.747305Z"
    },
    "papermill": {
     "duration": 47.132096,
     "end_time": "2023-10-26T13:06:29.750448",
     "exception": false,
     "start_time": "2023-10-26T13:05:42.618352",
     "status": "completed"
    },
    "tags": []
   },
   "outputs": [
    {
     "name": "stdout",
     "output_type": "stream",
     "text": [
      "--2023-10-26 13:05:43--  http://host.robots.ox.ac.uk/pascal/VOC/voc2007/VOCtrainval_06-Nov-2007.tar\r\n",
      "Resolving host.robots.ox.ac.uk (host.robots.ox.ac.uk)... 129.67.94.152\r\n",
      "Connecting to host.robots.ox.ac.uk (host.robots.ox.ac.uk)|129.67.94.152|:80... connected.\r\n",
      "HTTP request sent, awaiting response... 200 OK\r\n",
      "Length: 460032000 (439M) [application/x-tar]\r\n",
      "Saving to: ‘VOCtrainval_06-Nov-2007.tar’\r\n",
      "\r\n",
      "VOCtrainval_06-Nov- 100%[===================>] 438.72M  10.3MB/s    in 45s     \r\n",
      "\r\n",
      "2023-10-26 13:06:29 (9.65 MB/s) - ‘VOCtrainval_06-Nov-2007.tar’ saved [460032000/460032000]\r\n",
      "\r\n"
     ]
    }
   ],
   "source": [
    "!wget http://host.robots.ox.ac.uk/pascal/VOC/voc2007/VOCtrainval_06-Nov-2007.tar"
   ]
  },
  {
   "cell_type": "code",
   "execution_count": 3,
   "id": "c54662d5",
   "metadata": {
    "execution": {
     "iopub.execute_input": "2023-10-26T13:06:29.797106Z",
     "iopub.status.busy": "2023-10-26T13:06:29.796787Z",
     "iopub.status.idle": "2023-10-26T13:07:08.252412Z",
     "shell.execute_reply": "2023-10-26T13:07:08.251457Z"
    },
    "papermill": {
     "duration": 38.481321,
     "end_time": "2023-10-26T13:07:08.254614",
     "exception": false,
     "start_time": "2023-10-26T13:06:29.773293",
     "status": "completed"
    },
    "tags": []
   },
   "outputs": [
    {
     "name": "stdout",
     "output_type": "stream",
     "text": [
      "--2023-10-26 13:06:30--  http://host.robots.ox.ac.uk/pascal/VOC/voc2007/VOCtest_06-Nov-2007.tar\r\n",
      "Resolving host.robots.ox.ac.uk (host.robots.ox.ac.uk)... 129.67.94.152\r\n",
      "Connecting to host.robots.ox.ac.uk (host.robots.ox.ac.uk)|129.67.94.152|:80... connected.\r\n",
      "HTTP request sent, awaiting response... 200 OK\r\n",
      "Length: 451020800 (430M) [application/x-tar]\r\n",
      "Saving to: ‘VOCtest_06-Nov-2007.tar’\r\n",
      "\r\n",
      "VOCtest_06-Nov-2007 100%[===================>] 430.13M  14.5MB/s    in 37s     \r\n",
      "\r\n",
      "2023-10-26 13:07:08 (11.7 MB/s) - ‘VOCtest_06-Nov-2007.tar’ saved [451020800/451020800]\r\n",
      "\r\n"
     ]
    }
   ],
   "source": [
    "!wget http://host.robots.ox.ac.uk/pascal/VOC/voc2007/VOCtest_06-Nov-2007.tar"
   ]
  },
  {
   "cell_type": "code",
   "execution_count": 4,
   "id": "e6069b3b",
   "metadata": {
    "execution": {
     "iopub.execute_input": "2023-10-26T13:07:08.322159Z",
     "iopub.status.busy": "2023-10-26T13:07:08.321831Z",
     "iopub.status.idle": "2023-10-26T13:10:42.573388Z",
     "shell.execute_reply": "2023-10-26T13:10:42.572425Z"
    },
    "papermill": {
     "duration": 214.287915,
     "end_time": "2023-10-26T13:10:42.575808",
     "exception": false,
     "start_time": "2023-10-26T13:07:08.287893",
     "status": "completed"
    },
    "tags": []
   },
   "outputs": [
    {
     "name": "stdout",
     "output_type": "stream",
     "text": [
      "--2023-10-26 13:07:09--  http://host.robots.ox.ac.uk/pascal/VOC/voc2012/VOCtrainval_11-May-2012.tar\r\n",
      "Resolving host.robots.ox.ac.uk (host.robots.ox.ac.uk)... 129.67.94.152\r\n",
      "Connecting to host.robots.ox.ac.uk (host.robots.ox.ac.uk)|129.67.94.152|:80... connected.\r\n",
      "HTTP request sent, awaiting response... 200 OK\r\n",
      "Length: 1999639040 (1.9G) [application/x-tar]\r\n",
      "Saving to: ‘VOCtrainval_11-May-2012.tar’\r\n",
      "\r\n",
      "VOCtrainval_11-May- 100%[===================>]   1.86G  6.46MB/s    in 3m 33s  \r\n",
      "\r\n",
      "2023-10-26 13:10:42 (8.97 MB/s) - ‘VOCtrainval_11-May-2012.tar’ saved [1999639040/1999639040]\r\n",
      "\r\n"
     ]
    }
   ],
   "source": [
    "!wget http://host.robots.ox.ac.uk/pascal/VOC/voc2012/VOCtrainval_11-May-2012.tar"
   ]
  },
  {
   "cell_type": "code",
   "execution_count": 5,
   "id": "32e9d4eb",
   "metadata": {
    "execution": {
     "iopub.execute_input": "2023-10-26T13:10:42.762666Z",
     "iopub.status.busy": "2023-10-26T13:10:42.762276Z",
     "iopub.status.idle": "2023-10-26T13:10:50.985771Z",
     "shell.execute_reply": "2023-10-26T13:10:50.984480Z"
    },
    "papermill": {
     "duration": 8.321467,
     "end_time": "2023-10-26T13:10:50.988334",
     "exception": false,
     "start_time": "2023-10-26T13:10:42.666867",
     "status": "completed"
    },
    "tags": []
   },
   "outputs": [],
   "source": [
    "!tar xf VOCtrainval_11-May-2012.tar\n",
    "!tar xf VOCtrainval_06-Nov-2007.tar\n",
    "!tar xf VOCtest_06-Nov-2007.tar"
   ]
  },
  {
   "cell_type": "code",
   "execution_count": 6,
   "id": "7361ae5c",
   "metadata": {
    "execution": {
     "iopub.execute_input": "2023-10-26T13:10:51.197415Z",
     "iopub.status.busy": "2023-10-26T13:10:51.195895Z",
     "iopub.status.idle": "2023-10-26T13:10:52.855979Z",
     "shell.execute_reply": "2023-10-26T13:10:52.855037Z"
    },
    "papermill": {
     "duration": 1.777377,
     "end_time": "2023-10-26T13:10:52.858334",
     "exception": false,
     "start_time": "2023-10-26T13:10:51.080957",
     "status": "completed"
    },
    "tags": []
   },
   "outputs": [
    {
     "name": "stdout",
     "output_type": "stream",
     "text": [
      "--2023-10-26 13:10:52--  https://pjreddie.com/media/files/voc_label.py\r\n",
      "Resolving pjreddie.com (pjreddie.com)... 128.208.4.108\r\n",
      "Connecting to pjreddie.com (pjreddie.com)|128.208.4.108|:443... connected.\r\n",
      "HTTP request sent, awaiting response... 200 OK\r\n",
      "Length: 2042 (2.0K) [application/octet-stream]\r\n",
      "Saving to: ‘voc_label.py’\r\n",
      "\r\n",
      "voc_label.py        100%[===================>]   1.99K  --.-KB/s    in 0s      \r\n",
      "\r\n",
      "2023-10-26 13:10:52 (1020 MB/s) - ‘voc_label.py’ saved [2042/2042]\r\n",
      "\r\n"
     ]
    }
   ],
   "source": [
    "!wget https://pjreddie.com/media/files/voc_label.py"
   ]
  },
  {
   "cell_type": "code",
   "execution_count": 7,
   "id": "5a5f749f",
   "metadata": {
    "execution": {
     "iopub.execute_input": "2023-10-26T13:10:53.042467Z",
     "iopub.status.busy": "2023-10-26T13:10:53.041758Z",
     "iopub.status.idle": "2023-10-26T13:10:58.496475Z",
     "shell.execute_reply": "2023-10-26T13:10:58.495259Z"
    },
    "papermill": {
     "duration": 5.548888,
     "end_time": "2023-10-26T13:10:58.498777",
     "exception": false,
     "start_time": "2023-10-26T13:10:52.949889",
     "status": "completed"
    },
    "tags": []
   },
   "outputs": [],
   "source": [
    "!python voc_label.py"
   ]
  },
  {
   "cell_type": "code",
   "execution_count": 8,
   "id": "a6f943fc",
   "metadata": {
    "execution": {
     "iopub.execute_input": "2023-10-26T13:10:59.252656Z",
     "iopub.status.busy": "2023-10-26T13:10:59.251311Z",
     "iopub.status.idle": "2023-10-26T13:11:01.383953Z",
     "shell.execute_reply": "2023-10-26T13:11:01.382732Z"
    },
    "papermill": {
     "duration": 2.321298,
     "end_time": "2023-10-26T13:11:01.386381",
     "exception": false,
     "start_time": "2023-10-26T13:10:59.065083",
     "status": "completed"
    },
    "tags": []
   },
   "outputs": [],
   "source": [
    "!cat 2007_train.txt 2007_val.txt 2012_*.txt > train.txt\n",
    "!cp 2007_test.txt test.txt"
   ]
  },
  {
   "cell_type": "code",
   "execution_count": 9,
   "id": "50c89f41",
   "metadata": {
    "execution": {
     "iopub.execute_input": "2023-10-26T13:11:01.590705Z",
     "iopub.status.busy": "2023-10-26T13:11:01.590266Z",
     "iopub.status.idle": "2023-10-26T13:11:03.499343Z",
     "shell.execute_reply": "2023-10-26T13:11:03.498231Z"
    },
    "papermill": {
     "duration": 2.021999,
     "end_time": "2023-10-26T13:11:03.501681",
     "exception": false,
     "start_time": "2023-10-26T13:11:01.479682",
     "status": "completed"
    },
    "tags": []
   },
   "outputs": [],
   "source": [
    "!mkdir old_txt_files\n",
    "!mv 2007* 2012* old_txt_files/"
   ]
  },
  {
   "cell_type": "code",
   "execution_count": 10,
   "id": "fdd0f3ee",
   "metadata": {
    "execution": {
     "iopub.execute_input": "2023-10-26T13:11:10.730401Z",
     "iopub.status.busy": "2023-10-26T13:11:10.729505Z",
     "iopub.status.idle": "2023-10-26T13:11:11.763817Z",
     "shell.execute_reply": "2023-10-26T13:11:11.762682Z"
    },
    "papermill": {
     "duration": 1.134611,
     "end_time": "2023-10-26T13:11:11.766279",
     "exception": false,
     "start_time": "2023-10-26T13:11:10.631668",
     "status": "completed"
    },
    "tags": []
   },
   "outputs": [
    {
     "name": "stdout",
     "output_type": "stream",
     "text": [
      "python: can't open file '/kaggle/working/generate_csv.py': [Errno 2] No such file or directory\r\n"
     ]
    }
   ],
   "source": [
    "!python generate_csv.py"
   ]
  },
  {
   "cell_type": "code",
   "execution_count": 11,
   "id": "902bc8e4",
   "metadata": {
    "execution": {
     "iopub.execute_input": "2023-10-26T13:11:11.953398Z",
     "iopub.status.busy": "2023-10-26T13:11:11.953017Z",
     "iopub.status.idle": "2023-10-26T13:11:12.046007Z",
     "shell.execute_reply": "2023-10-26T13:11:12.045156Z"
    },
    "papermill": {
     "duration": 0.188486,
     "end_time": "2023-10-26T13:11:12.048225",
     "exception": false,
     "start_time": "2023-10-26T13:11:11.859739",
     "status": "completed"
    },
    "tags": []
   },
   "outputs": [],
   "source": [
    "import os\n",
    "import csv\n",
    "\n",
    "read_train = open(\"/kaggle/working/train.txt\", \"r\").readlines()\n",
    "\n",
    "with open(\"train.csv\", mode=\"w\", newline=\"\") as train_file:\n",
    "    for line in read_train:\n",
    "        image_file = line.split(\"/\")[-1].replace(\"\\n\", \"\")\n",
    "        text_file = image_file.replace(\".jpg\", \".txt\")\n",
    "        data = [image_file, text_file]\n",
    "        writer = csv.writer(train_file)\n",
    "        writer.writerow(data)\n",
    "\n",
    "read_train = open(\"/kaggle/working/test.txt\", \"r\").readlines()\n",
    "\n",
    "with open(\"test.csv\", mode=\"w\", newline=\"\") as train_file:\n",
    "    for line in read_train:\n",
    "        image_file = line.split(\"/\")[-1].replace(\"\\n\", \"\")\n",
    "        text_file = image_file.replace(\".jpg\", \".txt\")\n",
    "        data = [image_file, text_file]\n",
    "        writer = csv.writer(train_file)\n",
    "        writer.writerow(data)"
   ]
  },
  {
   "cell_type": "code",
   "execution_count": 12,
   "id": "2319ed25",
   "metadata": {
    "execution": {
     "iopub.execute_input": "2023-10-26T13:11:12.234480Z",
     "iopub.status.busy": "2023-10-26T13:11:12.234126Z",
     "iopub.status.idle": "2023-10-26T13:11:15.012079Z",
     "shell.execute_reply": "2023-10-26T13:11:15.011019Z"
    },
    "papermill": {
     "duration": 2.873271,
     "end_time": "2023-10-26T13:11:15.014410",
     "exception": false,
     "start_time": "2023-10-26T13:11:12.141139",
     "status": "completed"
    },
    "tags": []
   },
   "outputs": [],
   "source": [
    "!mkdir data\n",
    "!mkdir data/images\n",
    "!mkdir data/labels"
   ]
  },
  {
   "cell_type": "code",
   "execution_count": 13,
   "id": "d9b3c465",
   "metadata": {
    "execution": {
     "iopub.execute_input": "2023-10-26T13:11:15.199002Z",
     "iopub.status.busy": "2023-10-26T13:11:15.198652Z",
     "iopub.status.idle": "2023-10-26T13:11:15.203129Z",
     "shell.execute_reply": "2023-10-26T13:11:15.202238Z"
    },
    "papermill": {
     "duration": 0.098973,
     "end_time": "2023-10-26T13:11:15.205178",
     "exception": false,
     "start_time": "2023-10-26T13:11:15.106205",
     "status": "completed"
    },
    "tags": []
   },
   "outputs": [],
   "source": [
    "# os.mkdirs(\"/kaggle/working/data\")\n",
    "# os.mkdirs(\"/kaggle/working/data/images\")\n",
    "# os.mkdirs(\"/kaggle/working/data/labels\")"
   ]
  },
  {
   "cell_type": "code",
   "execution_count": 14,
   "id": "8ee8bf45",
   "metadata": {
    "execution": {
     "iopub.execute_input": "2023-10-26T13:11:15.389021Z",
     "iopub.status.busy": "2023-10-26T13:11:15.388703Z",
     "iopub.status.idle": "2023-10-26T13:11:19.381874Z",
     "shell.execute_reply": "2023-10-26T13:11:19.380642Z"
    },
    "papermill": {
     "duration": 4.088115,
     "end_time": "2023-10-26T13:11:19.384490",
     "exception": false,
     "start_time": "2023-10-26T13:11:15.296375",
     "status": "completed"
    },
    "tags": []
   },
   "outputs": [
    {
     "name": "stdout",
     "output_type": "stream",
     "text": [
      "cp: cannot stat 'VOCdevkit/*.jpg': No such file or directory\r\n"
     ]
    }
   ],
   "source": [
    "!cp VOCdevkit/*.jpg data/images/\n",
    "!cp VOCdevkit/VOC2007/labels/*.txt data/labels/\n",
    "!cp VOCdevkit/VOC2012/labels/*.txt data/labels/"
   ]
  },
  {
   "cell_type": "code",
   "execution_count": 15,
   "id": "d041c92d",
   "metadata": {
    "execution": {
     "iopub.execute_input": "2023-10-26T13:11:19.569489Z",
     "iopub.status.busy": "2023-10-26T13:11:19.568876Z",
     "iopub.status.idle": "2023-10-26T13:11:19.573512Z",
     "shell.execute_reply": "2023-10-26T13:11:19.572656Z"
    },
    "papermill": {
     "duration": 0.09925,
     "end_time": "2023-10-26T13:11:19.575573",
     "exception": false,
     "start_time": "2023-10-26T13:11:19.476323",
     "status": "completed"
    },
    "tags": []
   },
   "outputs": [],
   "source": [
    "# len(os.listdir(\"/kaggle/working/data/labels\"))"
   ]
  },
  {
   "cell_type": "code",
   "execution_count": 16,
   "id": "2a27d25c",
   "metadata": {
    "execution": {
     "iopub.execute_input": "2023-10-26T13:11:19.759067Z",
     "iopub.status.busy": "2023-10-26T13:11:19.758339Z",
     "iopub.status.idle": "2023-10-26T13:11:19.762391Z",
     "shell.execute_reply": "2023-10-26T13:11:19.761609Z"
    },
    "papermill": {
     "duration": 0.097984,
     "end_time": "2023-10-26T13:11:19.764309",
     "exception": false,
     "start_time": "2023-10-26T13:11:19.666325",
     "status": "completed"
    },
    "tags": []
   },
   "outputs": [],
   "source": [
    "\n",
    "# len(os.listdir(\"/kaggle/working/VOCdevkit/VOC2012/JPEGImages\"))+len(os.listdir(\"/kaggle/working/VOCdevkit/VOC2007/JPEGImages\"))"
   ]
  },
  {
   "cell_type": "code",
   "execution_count": 17,
   "id": "9cc6bc08",
   "metadata": {
    "execution": {
     "iopub.execute_input": "2023-10-26T13:11:19.948757Z",
     "iopub.status.busy": "2023-10-26T13:11:19.948412Z",
     "iopub.status.idle": "2023-10-26T13:11:25.413017Z",
     "shell.execute_reply": "2023-10-26T13:11:25.411770Z"
    },
    "papermill": {
     "duration": 5.559138,
     "end_time": "2023-10-26T13:11:25.415529",
     "exception": false,
     "start_time": "2023-10-26T13:11:19.856391",
     "status": "completed"
    },
    "tags": []
   },
   "outputs": [],
   "source": [
    "!mv VOCdevkit/VOC2007/JPEGImages/*.jpg data/images/                                      \n",
    "!mv VOCdevkit/VOC2012/JPEGImages/*.jpg data/images/                                      \n",
    "!mv VOCdevkit/VOC2007/labels/*.txt data/labels/                                          \n",
    "!mv VOCdevkit/VOC2012/labels/*.txt data/labels/ "
   ]
  },
  {
   "cell_type": "code",
   "execution_count": 18,
   "id": "438593ae",
   "metadata": {
    "execution": {
     "iopub.execute_input": "2023-10-26T13:11:25.600474Z",
     "iopub.status.busy": "2023-10-26T13:11:25.600064Z",
     "iopub.status.idle": "2023-10-26T13:11:27.398916Z",
     "shell.execute_reply": "2023-10-26T13:11:27.397691Z"
    },
    "papermill": {
     "duration": 1.894035,
     "end_time": "2023-10-26T13:11:27.401306",
     "exception": false,
     "start_time": "2023-10-26T13:11:25.507271",
     "status": "completed"
    },
    "tags": []
   },
   "outputs": [],
   "source": [
    "!rm -rf VOCdevkit/"
   ]
  },
  {
   "cell_type": "code",
   "execution_count": 19,
   "id": "70277630",
   "metadata": {
    "execution": {
     "iopub.execute_input": "2023-10-26T13:11:27.586661Z",
     "iopub.status.busy": "2023-10-26T13:11:27.586282Z",
     "iopub.status.idle": "2023-10-26T13:11:29.466839Z",
     "shell.execute_reply": "2023-10-26T13:11:29.465500Z"
    },
    "papermill": {
     "duration": 1.976578,
     "end_time": "2023-10-26T13:11:29.469491",
     "exception": false,
     "start_time": "2023-10-26T13:11:27.492913",
     "status": "completed"
    },
    "tags": []
   },
   "outputs": [],
   "source": [
    "!mv test.txt old_txt_files/\n",
    "!mv train.txt old_txt_files/"
   ]
  },
  {
   "cell_type": "markdown",
   "id": "228eeae5",
   "metadata": {
    "papermill": {
     "duration": 0.093606,
     "end_time": "2023-10-26T13:11:29.656063",
     "exception": false,
     "start_time": "2023-10-26T13:11:29.562457",
     "status": "completed"
    },
    "tags": []
   },
   "source": [
    "### Dataset creation"
   ]
  },
  {
   "cell_type": "code",
   "execution_count": 20,
   "id": "807b4eb9",
   "metadata": {
    "execution": {
     "iopub.execute_input": "2023-10-26T13:11:29.840001Z",
     "iopub.status.busy": "2023-10-26T13:11:29.839342Z",
     "iopub.status.idle": "2023-10-26T13:11:32.708962Z",
     "shell.execute_reply": "2023-10-26T13:11:32.708098Z"
    },
    "papermill": {
     "duration": 2.963814,
     "end_time": "2023-10-26T13:11:32.711176",
     "exception": false,
     "start_time": "2023-10-26T13:11:29.747362",
     "status": "completed"
    },
    "tags": []
   },
   "outputs": [],
   "source": [
    "import torch\n",
    "from torch.utils.data import Dataset\n",
    "import os\n",
    "import pandas as pd\n",
    "from PIL import Image\n",
    "\n",
    "\n",
    "class VOCDataset(Dataset):\n",
    "    def __init__(self, csv_file, img_dir, label_dir, S=7, B=2, C=20, transform=None):\n",
    "        self.annotations = pd.read_csv(csv_file)\n",
    "        self.img_dir = img_dir\n",
    "        self.label_dir = label_dir\n",
    "        self.transform = transform\n",
    "        self.S = S\n",
    "        self.B = B\n",
    "        self.C = C\n",
    "\n",
    "    def __len__(self):\n",
    "        return len(self.annotations)\n",
    "\n",
    "    def __getitem__(self, index):\n",
    "        label_path = os.path.join(self.label_dir, self.annotations.iloc[index, 1])\n",
    "        boxes = []\n",
    "        with open(label_path) as f:\n",
    "            for label in f.readlines():\n",
    "                #   int      /------float------\\\n",
    "                class_label, x, y, width, height = [\n",
    "                    float(x) if float(x) != int(float(x)) else int(x)\n",
    "                    for x in label.replace(\"\\n\", \"\").split()  # since reading a string from a .txt file\n",
    "                ]\n",
    "                boxes.append([class_label, x, y, width, height])\n",
    "        # extracting image from image path\n",
    "        img_path = os.path.join(self.img_dir, self.annotations.iloc[index, 0])\n",
    "        image = Image.open(img_path)\n",
    "        boxes = torch.tensor(boxes)\n",
    "\n",
    "        if self.transform is not None:\n",
    "            # augment the boxes according to image augmentation\n",
    "            image, boxes = self.transform(image, boxes)\n",
    "\n",
    "        # convert the coordinates from relative to image, to relative to cell\n",
    "        label_matrix = torch.zeros((self.S, self.S, self.C + 5*self.B))  # since this is target, only 1st C+5 will be used\n",
    "        for box in boxes:\n",
    "            class_label, x, y, w, h = box.tolist()  # box was a torch.tensor\n",
    "            class_label = int(class_label)\n",
    "\n",
    "            # getting index of cell to which object belongs\n",
    "            i, j = int(self.S * y), int(self.S * x)\n",
    "\n",
    "            # adjusting x, y values wrt cell dims            # |---- x and j\n",
    "            x_cell, y_cell = self.S * x - j, self.S * y - i  # |\n",
    "            # above is just origin shifting                  # y and i\n",
    "\n",
    "            # adjusting w, h values wrt cell dims\n",
    "            # width_pixels = width * self.image_width\n",
    "            # cell_pixels = self.cell_width\n",
    "            w_cell, h_cell = w * self.S, h * self.S  # just scaling w and h with cell dims\n",
    "\n",
    "            # if we haven't seen current cell, mark it that it has an object\n",
    "            if label_matrix[i, j, 20] == 0:\n",
    "                label_matrix[i, j, 20] = 1  # set that there exists object (pc = 1)\n",
    "\n",
    "                # set the new coordinates wrt cell\n",
    "                box_coordinates = torch.tensor([x_cell, y_cell, w_cell, h_cell])\n",
    "                label_matrix[i, j, 21:25] = box_coordinates\n",
    "\n",
    "                # one hot encode the class label\n",
    "                label_matrix[i, j, class_label] = 1\n",
    "\n",
    "        return image, label_matrix"
   ]
  },
  {
   "cell_type": "markdown",
   "id": "9baf5015",
   "metadata": {
    "papermill": {
     "duration": 0.092971,
     "end_time": "2023-10-26T13:11:32.897040",
     "exception": false,
     "start_time": "2023-10-26T13:11:32.804069",
     "status": "completed"
    },
    "tags": []
   },
   "source": [
    "### Utils"
   ]
  },
  {
   "cell_type": "code",
   "execution_count": 21,
   "id": "55be17b0",
   "metadata": {
    "execution": {
     "iopub.execute_input": "2023-10-26T13:11:33.083448Z",
     "iopub.status.busy": "2023-10-26T13:11:33.082987Z",
     "iopub.status.idle": "2023-10-26T13:11:33.131895Z",
     "shell.execute_reply": "2023-10-26T13:11:33.131115Z"
    },
    "papermill": {
     "duration": 0.144519,
     "end_time": "2023-10-26T13:11:33.133918",
     "exception": false,
     "start_time": "2023-10-26T13:11:32.989399",
     "status": "completed"
    },
    "tags": []
   },
   "outputs": [],
   "source": [
    "import torch\n",
    "from collections import Counter\n",
    "import numpy as np\n",
    "import matplotlib.pyplot as plt\n",
    "import matplotlib.patches as patches\n",
    "\n",
    "\n",
    "def iou(pred_bboxes, true_bboxes, box_format):\n",
    "    \"\"\"\n",
    "    Calculates IoU metric\n",
    "\n",
    "    :param pred_bboxes: Predictions of bounding boxes (BATCH_SIZE, 4)\n",
    "    :type pred_bboxes: tensor\n",
    "    :param true_bboxes: True bounding boxes (BATCH_SIZE, 4)\n",
    "    :type true_bboxes: tensor\n",
    "    :param box_format: midpoint (x, y, w, h) / corners (x1, y1, x2, y2)\n",
    "    :type box_format: str\n",
    "    :return: tensor: IoU over all examples (BATCH_SIZE, 1)\n",
    "    \"\"\"\n",
    "    box1_x1, box1_y1, box1_x2, box1_y2, box2_x1, box2_y1, box2_x2, box2_y2 = [0.]*8\n",
    "    if box_format == \"midpoint\":  # (x, y, w, h)\n",
    "        # slicing the lists to keep the dimensionality\n",
    "        # ... deals with dimensions before the coordinates (YOLO has (bsize, s, s, 4))\n",
    "        # predicted box\n",
    "        #                  x_mid                  w/2\n",
    "        box1_x1 = pred_bboxes[..., 0:1] - (pred_bboxes[..., 2:3]/2)\n",
    "        box1_y1 = pred_bboxes[..., 1:2] - (pred_bboxes[..., 3:4]/2)\n",
    "        box1_x2 = pred_bboxes[..., 0:1] + (pred_bboxes[..., 2:3]/2)\n",
    "        box1_y2 = pred_bboxes[..., 1:2] + (pred_bboxes[..., 3:4]/2)\n",
    "        # true box\n",
    "        box2_x1 = true_bboxes[..., 0:1] - (true_bboxes[..., 2:3] / 2)\n",
    "        box2_y1 = true_bboxes[..., 1:2] - (true_bboxes[..., 3:4] / 2)\n",
    "        box2_x2 = true_bboxes[..., 0:1] + (true_bboxes[..., 2:3] / 2)\n",
    "        box2_y2 = true_bboxes[..., 1:2] + (true_bboxes[..., 3:4] / 2)\n",
    "    elif box_format == \"corners\":  # (x1, y1, x2, y2)\n",
    "        # predicted box\n",
    "        box1_x1 = pred_bboxes[..., 0:1]\n",
    "        box1_y1 = pred_bboxes[..., 1:2]\n",
    "        box1_x2 = pred_bboxes[..., 2:3]\n",
    "        box1_y2 = pred_bboxes[..., 3:4]\n",
    "        # true box\n",
    "        box2_x1 = true_bboxes[..., 0:1]\n",
    "        box2_y1 = true_bboxes[..., 1:2]\n",
    "        box2_x2 = true_bboxes[..., 2:3]\n",
    "        box2_y2 = true_bboxes[..., 3:4]\n",
    "\n",
    "    # finding coordinates of intersection box\n",
    "    x1 = torch.max(box1_x1, box2_x1)\n",
    "    y1 = torch.max(box1_y1, box2_y1)\n",
    "    x2 = torch.min(box1_x2, box2_x2)\n",
    "    y2 = torch.min(box1_y2, box2_y2)\n",
    "\n",
    "    intersection = (x2 - x1).clamp(0) * (y2 - y1).clamp(0)  # .clamp(0) deals with no intersection case\n",
    "    box1_area = abs((box1_x2 - box1_x1) * (box1_y2 - box1_y1))\n",
    "    box2_area = abs((box2_x2 - box2_x1) * (box2_y2 - box2_y1))\n",
    "    union = box1_area + box2_area - intersection + 1e-8\n",
    "\n",
    "    return intersection/union\n",
    "\n",
    "\n",
    "def mAP(pred_boxes, true_boxes, iou_threshold, box_format, num_classes):\n",
    "\n",
    "    average_precisions = []  # list to store APs for all classes for a given iou threshold\n",
    "    epsilon = 1e-9  # numerical stability\n",
    "    for class_label in range(num_classes):\n",
    "        detections = []  # storing all predicted bboxes for current class\n",
    "        ground_truths = []  # storing all true bboxes for current class\n",
    "\n",
    "        for detection in pred_boxes:  # pred_boxes = [[image_index, class_label, probability, x1, y1, x2, y2], ..., ...]\n",
    "            if detection[1] == class_label:\n",
    "                detections.append(detection)\n",
    "\n",
    "        for true_box in true_boxes:\n",
    "            if true_box[1] == class_label:\n",
    "                ground_truths.append(true_box)\n",
    "\n",
    "        # we find the number of ground truth boxes associated with each image_index\n",
    "        num_bboxes = Counter([ground_truth[0] for ground_truth in ground_truths])\n",
    "        # we get a dict with total no. of bboxes for each image\n",
    "\n",
    "        # {img1:3, img2:2, ...} -> {img1:torch.tensor([0,0,0]), img2:torch.tensor([0,0])}\n",
    "        for k, v in num_bboxes.items():\n",
    "            num_bboxes[k] = torch.zeros(v)\n",
    "\n",
    "        detections.sort(key=lambda x: x[2], reverse=True)  # decreasing sort wrt probability score\n",
    "        TP = torch.zeros((len(detections)))\n",
    "        FP = torch.zeros((len(detections)))\n",
    "        total_true_boxes = len(ground_truths)  # TP + FN\n",
    "\n",
    "        if total_true_boxes == 0:\n",
    "            # skip if no true boxes exist for current class\n",
    "            continue\n",
    "\n",
    "        for detection_idx, detection in enumerate(detections):\n",
    "            # taking ground_truths that have same image_index as detection\n",
    "            # i.e. collecting all true boxes for an image\n",
    "            ground_truth_boxes_in_image = [\n",
    "                bbox for bbox in ground_truths if bbox[0] == detection[0]\n",
    "            ]\n",
    "\n",
    "            num_ground_truths = len(ground_truth_boxes_in_image)\n",
    "            best_iou = 0\n",
    "            best_gt_idx = None\n",
    "\n",
    "            for idx, ground_truth_box in enumerate(ground_truth_boxes_in_image):\n",
    "                # checking IoU score between ground truth box (in curr image) and detection/pred box (of curr class)\n",
    "                iou_score = iou(\n",
    "                    torch.tensor(detection[3:]),\n",
    "                    torch.tensor(ground_truth_box[3:]),\n",
    "                    box_format=box_format,\n",
    "                )\n",
    "\n",
    "                if iou_score > best_iou:\n",
    "                    best_iou = iou_score\n",
    "                    best_gt_idx = idx\n",
    "\n",
    "            if best_iou > iou_threshold:\n",
    "                # only detect ground truth detection once\n",
    "                if num_bboxes[detection[0]][best_gt_idx] == 0:\n",
    "                    # true positive and add this bounding box to seen\n",
    "                    TP[detection_idx] = 1  # true positive\n",
    "                    num_bboxes[detection[0]][best_gt_idx] = 1  # add this true bounding box to seen\n",
    "                else:  # the box is already seen\n",
    "                    FP[detection_idx] = 1\n",
    "\n",
    "            else:  # if IOU is lower than the threshold, the detection is a false positive\n",
    "                FP[detection_idx] = 1\n",
    "\n",
    "        # cumulative sum (like prefix sum array)\n",
    "        TP_cumsum = torch.cumsum(TP, dim=0)  # [0,1,0,1,1] -> [0,1,1,2,3]\n",
    "        FP_cumsum = torch.cumsum(FP, dim=0)\n",
    "        recalls = TP_cumsum / (total_true_boxes + epsilon)\n",
    "        precisions = TP_cumsum / (TP_cumsum + FP_cumsum + epsilon)\n",
    "\n",
    "        # adding points for numerical integration (x-axis = recall, y-axis = precision)\n",
    "        precisions = torch.cat((torch.tensor([1]), precisions))\n",
    "        recalls = torch.cat((torch.tensor([0]), recalls))\n",
    "        # torch.trapz (trapezoidal rule) for numerical integration\n",
    "        average_precisions.append(torch.trapz(precisions, recalls))\n",
    "\n",
    "    return sum(average_precisions) / len(average_precisions)\n",
    "\n",
    "\n",
    "def nms(bboxes: list, iou_threshold: float, prob_threshold: float, box_format: str):\n",
    "    \"\"\"\n",
    "    Performs Non Max Suppression\n",
    "    :param bboxes: list of lists containing all bboxes with each bboxes specified as [class_pred, prob_score, x1, y1, x2, y2]\n",
    "    :param iou_threshold: threshold where predicted bboxes is correct\n",
    "    :param prob_threshold: threshold to remove predicted bboxes (independent of IoU)\n",
    "    :param box_format: \"midpoint\" or \"corners\" format used to specify bboxes\n",
    "    :return: list: bboxes after performing NMS given a specific IoU threshold\n",
    "    \"\"\"\n",
    "\n",
    "    # bboxes -> [[class, probability score, x1, y1, x2, y2], ..., ..., ...]\n",
    "    bboxes = [box for box in bboxes if box[1] > prob_threshold]  # drop boxes below a probability threshold\n",
    "    bboxes = sorted(bboxes, key=lambda x: x[1], reverse=True)  # decreasing sort wrt probability score\n",
    "    bboxes_after_nms = []\n",
    "\n",
    "    while len(bboxes) > 0:\n",
    "        chosen_box = bboxes.pop(0)  # get the 1st bbox\n",
    "        # dropping redundant boxes == keeping unique boxes\n",
    "        bboxes = [  # dropping the boxes if of same class as chosen box or, has an IoU greater than iou_threshold\n",
    "            box\n",
    "            for box in bboxes\n",
    "            if box[0] != chosen_box[0]  # keep the box if classes don't match\n",
    "            # keep the box if it has a lower IoU than iou_threshold\n",
    "            or iou(torch.tensor(chosen_box[2:]), torch.tensor(box[2:]), box_format) < iou_threshold\n",
    "        ]\n",
    "\n",
    "        bboxes_after_nms.append(chosen_box)\n",
    "\n",
    "    return bboxes_after_nms\n",
    "\n",
    "\n",
    "def plot_image(image, boxes):\n",
    "    \"\"\"\n",
    "    Plots predicted bounding boxes on the image\n",
    "    \"\"\"\n",
    "    im = np.array(image)\n",
    "    height, width, _ = im.shape\n",
    "\n",
    "    # create figure and axes\n",
    "    fig, ax = plt.subplots(1)\n",
    "    # displaying the image\n",
    "    ax.imshow(im)\n",
    "\n",
    "    # box[0] is x midpoint, box[2] is width\n",
    "    # box[1] is y midpoint, box[3] is height\n",
    "\n",
    "    # creating a rectangle box\n",
    "    for box in boxes:\n",
    "        box = box[2:]\n",
    "        assert len(box) == 4, \"Got more values than in x, y, w, h, in a box!\"\n",
    "        upper_left_x = box[0] - box[2] / 2\n",
    "        upper_left_y = box[1] - box[3] / 2\n",
    "        rect = patches.Rectangle(\n",
    "            xy=(upper_left_x * width, upper_left_y * height),\n",
    "            width=box[2] * width,\n",
    "            height=box[3] * height,\n",
    "            linewidth=1,\n",
    "            edgecolor=\"r\",\n",
    "            facecolor=\"none\",\n",
    "        )\n",
    "        # adding the box to the axes\n",
    "        ax.add_patch(rect)\n",
    "\n",
    "    plt.show()\n",
    "\n",
    "\n",
    "def save_checkpoint(state, filename=\"checkpoint.pth\", epoch=None):\n",
    "    print(\"=> Saving checkpoint\")\n",
    "    # filename = f\"epoch{epoch}_\" + filename\n",
    "    # filename = \"checkpoints/\" + filename\n",
    "    torch.save(state, filename)  # saving the checkpoint\n",
    "\n",
    "\n",
    "def load_checkpoint(checkpoint, model, optimizer):\n",
    "    print(\"=> Loading checkpoint\")\n",
    "    model.load_state_dict(checkpoint[\"state_dict\"])\n",
    "    optimizer.load_state_dict(checkpoint[\"optimizer\"])\n",
    "\n",
    "\n",
    "def get_bboxes(loader, model, iou_threshold, prob_threshold, pred_format=\"cells\", box_format=\"midpoint\", device=\"cuda\"):\n",
    "    \"\"\"\n",
    "    Get true and prediction bounding boxes after passing model and data\n",
    "    :param loader: train/test data loader\n",
    "    :param model: object detection model\n",
    "    :param iou_threshold: IoU threshold req for non-max suppression\n",
    "    :param prob_threshold: threshold probability score for object's presence\n",
    "    :param pred_format: prediction format for bboxes (wrt \"cells\" or \"boxes\" (image))\n",
    "    :param box_format: \"midpoint\" or \"corners\"\n",
    "    :param device: \"cuda\" if available else \"cpu\"\n",
    "    :type iou_threshold: float\n",
    "    :type prob_threshold: float\n",
    "    :return: lists of all true bboxes and prediction boxes\n",
    "    \"\"\"\n",
    "    all_pred_boxes = []\n",
    "    all_true_boxes = []\n",
    "\n",
    "    # set model in eval mode before predicting bboxes\n",
    "    model.eval()\n",
    "    train_idx = 0\n",
    "\n",
    "    for batch_idx, (x, labels) in enumerate(loader):\n",
    "        x = x.to(device)\n",
    "        labels = labels.to(device)  # coordinates wrt cells\n",
    "\n",
    "        with torch.no_grad():  # don't keep track of gradients\n",
    "            predictions = model(x)\n",
    "\n",
    "        batch_size = x.shape[0]\n",
    "        # change from wrt cells to wrt image\n",
    "        true_bboxes = cellboxes_to_boxes(labels)\n",
    "        bboxes = cellboxes_to_boxes(predictions)\n",
    "\n",
    "        for idx in range(batch_size):\n",
    "            nms_boxes = nms(\n",
    "                bboxes[idx],\n",
    "                iou_threshold=iou_threshold,\n",
    "                prob_threshold=prob_threshold,\n",
    "                box_format=box_format,\n",
    "            )\n",
    "\n",
    "            # if batch_idx == 0 and idx == 0:\n",
    "            #    plot_image(x[idx].permute(1,2,0).to(\"cpu\"), nms_boxes)\n",
    "            #    print(nms_boxes)\n",
    "\n",
    "            for nms_box in nms_boxes:\n",
    "                all_pred_boxes.append([train_idx] + nms_box)\n",
    "\n",
    "            for box in true_bboxes[idx]:\n",
    "                # many will get converted to 0 pred\n",
    "                if box[1] > prob_threshold:\n",
    "                    all_true_boxes.append([train_idx] + box)\n",
    "\n",
    "            train_idx += 1\n",
    "\n",
    "    model.train()  # set model back to train mode\n",
    "    return all_pred_boxes, all_true_boxes\n",
    "\n",
    "\n",
    "def convert_cellboxes(predictions, S=7):\n",
    "    \"\"\"\n",
    "    Converts bounding boxes output from Yolo with\n",
    "    an image split size of S into entire image ratios\n",
    "    rather than relative to cell ratios. Tried to do this\n",
    "    vectorized, but this resulted in quite difficult to read\n",
    "    code... Use as a black box? Or implement a more intuitive,\n",
    "    using 2 for loops iterating range(S) and convert them one\n",
    "    by one, resulting in a slower but more readable implementation.\n",
    "    \"\"\"\n",
    "\n",
    "    predictions = predictions.to(\"cpu\")\n",
    "    batch_size = predictions.shape[0]\n",
    "    predictions = predictions.reshape(batch_size, 7, 7, 30)\n",
    "    bboxes1 = predictions[..., 21:25]\n",
    "    bboxes2 = predictions[..., 26:30]\n",
    "    scores = torch.cat(\n",
    "        (predictions[..., 20].unsqueeze(0), predictions[..., 25].unsqueeze(0)), dim=0\n",
    "    )\n",
    "    best_box = scores.argmax(0).unsqueeze(-1)\n",
    "    best_boxes = bboxes1 * (1 - best_box) + best_box * bboxes2\n",
    "    cell_indices = torch.arange(7).repeat(batch_size, 7, 1).unsqueeze(-1)\n",
    "    x = 1 / S * (best_boxes[..., :1] + cell_indices)\n",
    "    y = 1 / S * (best_boxes[..., 1:2] + cell_indices.permute(0, 2, 1, 3))\n",
    "    w_y = 1 / S * best_boxes[..., 2:4]\n",
    "    converted_bboxes = torch.cat((x, y, w_y), dim=-1)\n",
    "    predicted_class = predictions[..., :20].argmax(-1).unsqueeze(-1)\n",
    "    best_confidence = torch.max(predictions[..., 20], predictions[..., 25]).unsqueeze(\n",
    "        -1\n",
    "    )\n",
    "    converted_preds = torch.cat(\n",
    "        (predicted_class, best_confidence, converted_bboxes), dim=-1\n",
    "    )\n",
    "\n",
    "    return converted_preds\n",
    "\n",
    "\n",
    "def cellboxes_to_boxes(out, S=7):\n",
    "    converted_pred = convert_cellboxes(out).reshape(out.shape[0], S * S, -1)\n",
    "    converted_pred[..., 0] = converted_pred[..., 0].long()\n",
    "    all_bboxes = []\n",
    "\n",
    "    for ex_idx in range(out.shape[0]):\n",
    "        bboxes = []\n",
    "\n",
    "        for bbox_idx in range(S * S):\n",
    "            bboxes.append([x.item() for x in converted_pred[ex_idx, bbox_idx, :]])\n",
    "        all_bboxes.append(bboxes)\n",
    "\n",
    "    return all_bboxes"
   ]
  },
  {
   "cell_type": "markdown",
   "id": "6618e92e",
   "metadata": {
    "papermill": {
     "duration": 0.092881,
     "end_time": "2023-10-26T13:11:33.321118",
     "exception": false,
     "start_time": "2023-10-26T13:11:33.228237",
     "status": "completed"
    },
    "tags": []
   },
   "source": [
    "### Loss function"
   ]
  },
  {
   "cell_type": "code",
   "execution_count": 22,
   "id": "62e7b161",
   "metadata": {
    "execution": {
     "iopub.execute_input": "2023-10-26T13:11:33.508825Z",
     "iopub.status.busy": "2023-10-26T13:11:33.508449Z",
     "iopub.status.idle": "2023-10-26T13:11:33.526191Z",
     "shell.execute_reply": "2023-10-26T13:11:33.525284Z"
    },
    "papermill": {
     "duration": 0.114866,
     "end_time": "2023-10-26T13:11:33.528287",
     "exception": false,
     "start_time": "2023-10-26T13:11:33.413421",
     "status": "completed"
    },
    "tags": []
   },
   "outputs": [],
   "source": [
    "import torch\n",
    "import torch.nn as nn\n",
    "\n",
    "\n",
    "class YOLOv1Loss(nn.Module):\n",
    "    def __init__(self, S=7, B=2, C=20):\n",
    "        \"\"\"\n",
    "        :param S: number of splits\n",
    "        :param B: number of detections per cell\n",
    "        :param C: number of classes\n",
    "        \"\"\"\n",
    "        super(YOLOv1Loss, self).__init__()\n",
    "        self.S = S\n",
    "        self.B = B\n",
    "        self.C = C\n",
    "\n",
    "        # from paper\n",
    "        self.lambda_noobj = 0.5  # to decrease impact of loss from no object cells\n",
    "        self.lambda_coord = 5  # emphasise more on localisation loss\n",
    "\n",
    "        self.mse = nn.MSELoss(reduction=\"sum\")  # just sum the losses\n",
    "\n",
    "    def forward(self, predictions, target):\n",
    "        # reshaping since predictions of shape (batch, S*S*(C + B*5))\n",
    "        predictions = predictions.reshape(-1, self.S, self.S, self.C + self.B*5)\n",
    "\n",
    "        # calculate IoU of two predicted boxes with target box\n",
    "        iou1 = iou(predictions[..., 21:25], target[..., 21:25], box_format=\"midpoint\")\n",
    "        iou2 = iou(predictions[..., 26:30], target[..., 21:25], box_format=\"midpoint\")\n",
    "        ious = torch.cat([torch.unsqueeze(iou1, dim=0), torch.unsqueeze(iou2, dim=0)], dim=0)\n",
    "\n",
    "        iou_max, best_box = torch.max(ious, dim=0)  # val, idx\n",
    "        # target[..., 20].shape -> (-1, 7, 7)\n",
    "        # torch.unsqueeze(target[..., 20], dim=3).shape -> (-1, 7, 7, 1)\n",
    "        # the index 20 corresponds to pc (i.e. 1 or 0)\n",
    "        # Iobj_i: extracting objectedness score from target\n",
    "        exists_box = torch.unsqueeze(target[..., 20], dim=3)  # shape (-1, S, S, 1)\n",
    "\n",
    "        # BOX COORDINATES (1st two lines of loss fn)\n",
    "        box_predictions = exists_box * (\n",
    "                best_box * predictions[..., 26:30] +  # when best_box is 1 (i.e. second box)\n",
    "                (1-best_box) * predictions[..., 21:25]  # when best_box is 0 (i.e. first box)\n",
    "        )  # shape (-1, S, S, 4)\n",
    "        # taking square root of w, h      this is done to incorporate correct sign of gradient (lost due to torch.abs())\n",
    "        #                                         |\n",
    "        box_predictions[..., 2:4] = torch.sign(box_predictions[..., 2:4]) * torch.sqrt(\n",
    "            torch.abs(box_predictions[..., 2:4] + 1e-9)  # to avoid sqrt of -ve, and infinite gradient of sqrt fn at 0\n",
    "        )\n",
    "\n",
    "        box_targets = exists_box * target[..., 21:25]  # shape (-1, S, S, 4)\n",
    "        # taking square root of w, h\n",
    "        box_targets[..., 2:4] = torch.sqrt(box_targets[..., 2:4])\n",
    "\n",
    "        true = torch.flatten(box_targets, end_dim=-2)  # shape (-1, S*S, 4)\n",
    "        pred = torch.flatten(box_predictions, end_dim=-2)  # shape (-1, S*S, 4)\n",
    "        box_loss = self.mse(pred, true)\n",
    "\n",
    "        # OBJECT LOSS (3rd line of loss fn)\n",
    "        # confidence score for box with highest IoU\n",
    "        pred_box = best_box * predictions[..., 25:26] + (1-best_box) * predictions[..., 20:21]  # shape (-1, S, S, 1)\n",
    "\n",
    "        object_loss = self.mse(\n",
    "            torch.flatten(exists_box * pred_box),\n",
    "            torch.flatten(exists_box * target[..., 20:21]),\n",
    "        )\n",
    "\n",
    "        # NO OBJECT LOSS (4th line of loss fn)\n",
    "        # shape (-1, S, S, 1) -> (-1, S*S)\n",
    "        no_object_box1 = self.mse(\n",
    "            torch.flatten((1-exists_box) * predictions[..., 20:21], start_dim=1),\n",
    "            torch.flatten((1-exists_box)*target[..., 20:21], start_dim=1)\n",
    "        )\n",
    "        no_object_box2 = self.mse(\n",
    "            torch.flatten((1-exists_box) * predictions[..., 25:26], start_dim=1),\n",
    "            torch.flatten((1-exists_box) * target[..., 20:21], start_dim=1)\n",
    "        )\n",
    "        no_object_loss = no_object_box1 + no_object_box2\n",
    "\n",
    "        # CLASS LOSS (5th line of loss fn)\n",
    "        # shape (-1, S, S, NUM_CLASSES) -> (-1, S*S, NUM_CLASSES)\n",
    "        classification_loss = self.mse(\n",
    "            torch.flatten(exists_box * predictions[..., :20], end_dim=-2),\n",
    "            torch.flatten(exists_box * target[..., :20], end_dim=-2)\n",
    "        )\n",
    "\n",
    "        # COMBINING ALL LOSS COMPONENTS\n",
    "        complete_loss = (\n",
    "            + self.lambda_coord*box_loss\n",
    "            + object_loss\n",
    "            + self.lambda_noobj*no_object_loss\n",
    "            + classification_loss\n",
    "        )\n",
    "\n",
    "        return complete_loss"
   ]
  },
  {
   "cell_type": "markdown",
   "id": "e2ea61d3",
   "metadata": {
    "papermill": {
     "duration": 0.092882,
     "end_time": "2023-10-26T13:11:33.715023",
     "exception": false,
     "start_time": "2023-10-26T13:11:33.622141",
     "status": "completed"
    },
    "tags": []
   },
   "source": [
    "### Model"
   ]
  },
  {
   "cell_type": "code",
   "execution_count": 23,
   "id": "592f099d",
   "metadata": {
    "execution": {
     "iopub.execute_input": "2023-10-26T13:11:33.903752Z",
     "iopub.status.busy": "2023-10-26T13:11:33.903393Z",
     "iopub.status.idle": "2023-10-26T13:11:33.923143Z",
     "shell.execute_reply": "2023-10-26T13:11:33.922245Z"
    },
    "papermill": {
     "duration": 0.117626,
     "end_time": "2023-10-26T13:11:33.925381",
     "exception": false,
     "start_time": "2023-10-26T13:11:33.807755",
     "status": "completed"
    },
    "tags": []
   },
   "outputs": [],
   "source": [
    "# YOLOv1 paper: https://arxiv.org/pdf/1506.02640.pdf\n",
    "# image split into 7x7 grid, and each cell has 2 types of bboxes (kinda anchor boxes)\n",
    "# each cell can output only one object detections\n",
    "\n",
    "import torch\n",
    "import torch.nn as nn\n",
    "\n",
    "architecture_config = [  # convolutional part\n",
    "    (7, 64, 2, 3),  # tuple: (kernel_size, out_channels, stride, padding)\n",
    "    \"M\",  # str (max pooling): (kernel_size, stride)\n",
    "    (3, 192, 1, 1),\n",
    "    \"M\",\n",
    "    (1, 128, 1, 0),\n",
    "    (3, 256, 1, 1),\n",
    "    (1, 256, 1, 0),\n",
    "    (3, 512, 1, 1),\n",
    "    \"M\",\n",
    "    # list: [tuple1, tuple2, ..., number_of_sequential_repeats_of_tuples]\n",
    "    [(1, 256, 1, 0), (3, 512, 1, 1), 4],\n",
    "    (1, 512, 1, 0),\n",
    "    (3, 1024, 1, 1),\n",
    "    \"M\",\n",
    "    [(1, 512, 1, 0), (3, 1024, 1, 1), 2],\n",
    "    (3, 1024, 1, 1),\n",
    "    (3, 1024, 2, 1),\n",
    "    (3, 1024, 1, 1),\n",
    "    (3, 1024, 1, 1),\n",
    "]\n",
    "\n",
    "\n",
    "class CNNBlock(nn.Module):\n",
    "    def __init__(self, in_channels, out_channels, **kwargs):\n",
    "        super(CNNBlock, self).__init__()\n",
    "        self.conv = nn.Conv2d(\n",
    "            in_channels=in_channels,\n",
    "            out_channels=out_channels,\n",
    "            bias=False,\n",
    "            **kwargs,  # kernel_size, stride, ...\n",
    "        )\n",
    "        self.batchnorm = nn.BatchNorm2d(out_channels)  # not originally\n",
    "        self.leakyrelu = nn.LeakyReLU(0.1)\n",
    "\n",
    "    def forward(self, x):\n",
    "        x = self.batchnorm(self.conv(x))\n",
    "        return self.leakyrelu(x)\n",
    "\n",
    "\n",
    "class YOLOv1(nn.Module):\n",
    "    def __init__(self, in_channels, **kwargs):\n",
    "        super(YOLOv1, self).__init__()\n",
    "        self.architecture = architecture_config\n",
    "        self.in_channels = in_channels\n",
    "        self.darknet = self.create_conv_layers(self.architecture)\n",
    "        self.fc = self.create_fully_connected_layers(**kwargs)\n",
    "\n",
    "    def forward(self, x):\n",
    "        x = self.darknet(x)\n",
    "        # alternate for .reshape(); dim=0 is batches (examples), taken care of by nn.Flatten() later on\n",
    "        # x = torch.flatten(x, start_dim=1)\n",
    "        x = self.fc(x)\n",
    "        return x\n",
    "\n",
    "    def create_conv_layers(self, architecture):\n",
    "        layers = []\n",
    "        in_channels = self.in_channels\n",
    "\n",
    "        for comp in architecture:\n",
    "            if type(comp) == tuple:\n",
    "                layers += [\n",
    "                    CNNBlock(\n",
    "                        in_channels=in_channels,\n",
    "                        out_channels=comp[1],\n",
    "                        kernel_size=comp[0],\n",
    "                        stride=comp[2],\n",
    "                        padding=comp[3],\n",
    "                    )\n",
    "                ]\n",
    "                in_channels = comp[1]  # update in channels for next block\n",
    "\n",
    "            elif type(comp) == str:\n",
    "                layers += [nn.MaxPool2d(kernel_size=2, stride=2)]\n",
    "\n",
    "            elif type(comp) == list:\n",
    "                # currently we have two conv layers for sequential repetition\n",
    "                conv1 = comp[0]\n",
    "                conv2 = comp[1]\n",
    "                num_repeats = comp[2]\n",
    "\n",
    "                for _ in range(num_repeats):\n",
    "                    layers += [\n",
    "                        CNNBlock(\n",
    "                            in_channels=in_channels,\n",
    "                            out_channels=conv1[1],\n",
    "                            kernel_size=conv1[0],\n",
    "                            stride=conv1[2],\n",
    "                            padding=conv1[3],\n",
    "                        )\n",
    "                    ]\n",
    "                    layers += [\n",
    "                        CNNBlock(\n",
    "                            in_channels=conv1[1],\n",
    "                            out_channels=conv2[1],\n",
    "                            kernel_size=conv2[0],\n",
    "                            stride=conv2[2],\n",
    "                            padding=conv2[3],\n",
    "                        )\n",
    "                    ]\n",
    "                    in_channels = conv2[1]  # update in channels for next set of repetitions\n",
    "\n",
    "        return nn.Sequential(*layers)\n",
    "\n",
    "    def create_fully_connected_layers(self, split_size, num_boxes_per_cell, num_classes):\n",
    "        S, B, C = split_size, num_boxes_per_cell, num_classes\n",
    "        final_block = nn.Sequential(\n",
    "            nn.Flatten(),\n",
    "            nn.Linear(in_features=1024 * S * S, out_features=4096),\n",
    "            # nn.Dropout(0.0),  # not originally\n",
    "            nn.LeakyReLU(0.1),\n",
    "            nn.Linear(in_features=4096, out_features=S * S * (C + B * 5)),  # target of shape S*S*(C+5)\n",
    "                                                                            # needs to reshaped as (S, S, C + B*5), taking care of batches dimension\n",
    "        )\n",
    "        return final_block\n"
   ]
  },
  {
   "cell_type": "markdown",
   "id": "fbdf08ea",
   "metadata": {
    "papermill": {
     "duration": 0.098963,
     "end_time": "2023-10-26T13:11:34.126678",
     "exception": false,
     "start_time": "2023-10-26T13:11:34.027715",
     "status": "completed"
    },
    "tags": []
   },
   "source": [
    "### Training"
   ]
  },
  {
   "cell_type": "code",
   "execution_count": 24,
   "id": "f72589ed",
   "metadata": {
    "execution": {
     "iopub.execute_input": "2023-10-26T13:11:34.324086Z",
     "iopub.status.busy": "2023-10-26T13:11:34.323721Z",
     "iopub.status.idle": "2023-10-26T13:11:34.658667Z",
     "shell.execute_reply": "2023-10-26T13:11:34.657885Z"
    },
    "papermill": {
     "duration": 0.437562,
     "end_time": "2023-10-26T13:11:34.660899",
     "exception": false,
     "start_time": "2023-10-26T13:11:34.223337",
     "status": "completed"
    },
    "tags": []
   },
   "outputs": [],
   "source": [
    "import torch\n",
    "import torchvision.transforms as transforms\n",
    "# import torchvision.transforms.functional as FT\n",
    "from tqdm import tqdm\n",
    "from torch.utils.data import DataLoader\n",
    "import torch.optim as optim\n",
    "\n",
    "# from model import YOLOv1\n",
    "# from dataset import VOCDataset\n",
    "# from loss import YOLOv1Loss\n",
    "# from utils import (iou, nms, mAP, cellboxes_to_boxes,\n",
    "#                    get_bboxes, plot_image, save_checkpoint, load_checkpoint)\n",
    "\n",
    "\n",
    "seed = 123\n",
    "torch.manual_seed(seed)\n",
    "\n",
    "# Hyperparameters\n",
    "LEARNING_RATE = 2e-5\n",
    "DEVICE = \"cuda\" if torch.cuda.is_available() else \"cpu\"\n",
    "BATCH_SIZE = 16  # originally 64, not enough ram in local machine's gpu\n",
    "WEIGHT_DECAY = 0  # original paper uses lr scheduling, and a decay of 0.0005\n",
    "NUM_EPOCHS = 60\n",
    "NUM_CLASSES = 20\n",
    "NUM_WORKERS = 2\n",
    "PIN_MEMORY = True\n",
    "LOAD_MODEL = False\n",
    "LOAD_MODEL_FILE = \"overfit.pth.tar\"\n",
    "IMG_DIR = \"data/images\"\n",
    "LABEL_DIR = \"data/labels\"\n",
    "\n",
    "\n",
    "# Creating a custom compose object that applies the transformations\n",
    "class Compose(object):\n",
    "    def __init__(self, transformations):\n",
    "        self.transforms = transformations\n",
    "\n",
    "    def __call__(self, img, bboxes):\n",
    "        for t in self.transforms:\n",
    "            # transforming only the images as bboxes are by default relative to image dims\n",
    "            img, bboxes = t(img), bboxes\n",
    "\n",
    "        return img, bboxes\n",
    "\n",
    "\n",
    "transform = Compose(\n",
    "    [\n",
    "        transforms.Resize((448, 448)),\n",
    "        transforms.ToTensor()\n",
    "    ]\n",
    ")\n",
    "\n",
    "\n",
    "def train_loop(train_loader, model, optimizer, loss_fn):\n",
    "    loop = tqdm(train_loader, leave=True)\n",
    "    mean_loss = []\n",
    "    for batch_idx, (x, y) in enumerate(loop):\n",
    "        x, y = x.to(DEVICE), y.to(DEVICE)\n",
    "        out = model(x)\n",
    "        loss = loss_fn(out, y)\n",
    "        mean_loss.append(loss.item())\n",
    "        optimizer.zero_grad()\n",
    "        loss.backward()\n",
    "        optimizer.step()\n",
    "\n",
    "        # update progress bar\n",
    "        loop.set_postfix(loss=loss.item())  # .item() converts single value tensor to simple number\n",
    "\n",
    "    print(f\"Mean loss: {sum(mean_loss) / len(mean_loss)}\")\n"
   ]
  },
  {
   "cell_type": "code",
   "execution_count": 25,
   "id": "9a3d5542",
   "metadata": {
    "execution": {
     "iopub.execute_input": "2023-10-26T13:11:34.847791Z",
     "iopub.status.busy": "2023-10-26T13:11:34.847116Z",
     "iopub.status.idle": "2023-10-26T13:11:40.020585Z",
     "shell.execute_reply": "2023-10-26T13:11:40.019785Z"
    },
    "papermill": {
     "duration": 5.26936,
     "end_time": "2023-10-26T13:11:40.022904",
     "exception": false,
     "start_time": "2023-10-26T13:11:34.753544",
     "status": "completed"
    },
    "tags": []
   },
   "outputs": [],
   "source": [
    "model = YOLOv1(split_size=7, num_boxes_per_cell=2, num_classes=20, in_channels=3).to(DEVICE)"
   ]
  },
  {
   "cell_type": "code",
   "execution_count": 26,
   "id": "0c56e6df",
   "metadata": {
    "execution": {
     "iopub.execute_input": "2023-10-26T13:11:40.210218Z",
     "iopub.status.busy": "2023-10-26T13:11:40.209547Z",
     "iopub.status.idle": "2023-10-26T13:11:40.220685Z",
     "shell.execute_reply": "2023-10-26T13:11:40.219852Z"
    },
    "papermill": {
     "duration": 0.10694,
     "end_time": "2023-10-26T13:11:40.222615",
     "exception": false,
     "start_time": "2023-10-26T13:11:40.115675",
     "status": "completed"
    },
    "tags": []
   },
   "outputs": [],
   "source": [
    "def main():\n",
    "# loading model and loss function\n",
    "# model = YOLOv1(split_size=7, num_boxes_per_cell=2, num_classes=20, in_channels=3).to(DEVICE)\n",
    "    optimizer = optim.Adam(model.parameters(), lr=LEARNING_RATE, weight_decay=WEIGHT_DECAY)\n",
    "    loss_fn = YOLOv1Loss()\n",
    "\n",
    "    if LOAD_MODEL:\n",
    "        load_checkpoint(torch.load(LOAD_MODEL_FILE), model, optimizer)\n",
    "\n",
    "    # loading dataset and setting up the data loader\n",
    "    train_dataset = VOCDataset(\n",
    "        csv_file=\"/kaggle/working/train.csv\",\n",
    "        transform=transform,\n",
    "        img_dir=IMG_DIR,\n",
    "        label_dir=LABEL_DIR,\n",
    "    )\n",
    "\n",
    "    test_dataset = VOCDataset(\n",
    "        csv_file=\"/kaggle/working/test.csv\",\n",
    "        transform=transform,\n",
    "        img_dir=IMG_DIR,\n",
    "        label_dir=LABEL_DIR,\n",
    "    )\n",
    "\n",
    "    train_loader = DataLoader(\n",
    "        dataset=train_dataset,\n",
    "        batch_size=BATCH_SIZE,\n",
    "        num_workers=NUM_WORKERS,\n",
    "        pin_memory=PIN_MEMORY,\n",
    "        shuffle=True,\n",
    "        drop_last=True,\n",
    "    )\n",
    "\n",
    "    test_loader = DataLoader(\n",
    "        dataset=test_dataset,\n",
    "        batch_size=BATCH_SIZE,\n",
    "        num_workers=NUM_WORKERS,\n",
    "        pin_memory=PIN_MEMORY,\n",
    "        shuffle=True,\n",
    "        drop_last=True,\n",
    "    )\n",
    "\n",
    "    for epoch in range(NUM_EPOCHS):\n",
    "        # visualizing\n",
    "        # for x, y in train_loader:\n",
    "        #\n",
    "        #     x = x.to(DEVICE)\n",
    "        #     for idx in range(8):\n",
    "        #         bboxes = cellboxes_to_boxes(model(x))\n",
    "        #         bboxes = nms(bboxes[idx], iou_threshold=0.5, prob_threshold=0.4, box_format=\"midpoint\")\n",
    "        #         plot_image(x[idx].permute(1, 2, 0).to(\"cpu\"), bboxes)\n",
    "        #\n",
    "        #     import sys\n",
    "        #     sys.exit()\n",
    "\n",
    "        pred_boxes, target_boxes = get_bboxes(\n",
    "            train_loader, model, iou_threshold=0.5, prob_threshold=0.4\n",
    "        )\n",
    "\n",
    "        mean_avg_precision = mAP(\n",
    "            pred_boxes, target_boxes, iou_threshold=0.5, box_format=\"midpoint\", num_classes=NUM_CLASSES\n",
    "        )\n",
    "        print(f\"Train mAP: {mean_avg_precision}\")\n",
    "\n",
    "        # saving the model checkpoint\n",
    "        if mean_avg_precision > 0.9:\n",
    "            checkpoint = {\n",
    "               \"state_dict\": model.state_dict(),\n",
    "               \"optimizer\": optimizer.state_dict(),\n",
    "            }\n",
    "            save_checkpoint(checkpoint, filename=LOAD_MODEL_FILE)\n",
    "            import time\n",
    "            time.sleep(10)\n",
    "\n",
    "        train_loop(train_loader, model, optimizer, loss_fn)"
   ]
  },
  {
   "cell_type": "code",
   "execution_count": 27,
   "id": "754f0c2d",
   "metadata": {
    "execution": {
     "iopub.execute_input": "2023-10-26T13:11:40.408479Z",
     "iopub.status.busy": "2023-10-26T13:11:40.407864Z",
     "iopub.status.idle": "2023-10-26T19:45:20.809889Z",
     "shell.execute_reply": "2023-10-26T19:45:20.808522Z"
    },
    "papermill": {
     "duration": 23620.496824,
     "end_time": "2023-10-26T19:45:20.812253",
     "exception": false,
     "start_time": "2023-10-26T13:11:40.315429",
     "status": "completed"
    },
    "tags": []
   },
   "outputs": [
    {
     "name": "stdout",
     "output_type": "stream",
     "text": [
      "Train mAP: 0.0\n"
     ]
    },
    {
     "name": "stderr",
     "output_type": "stream",
     "text": [
      "100%|██████████| 1034/1034 [03:44<00:00,  4.60it/s, loss=168]"
     ]
    },
    {
     "name": "stdout",
     "output_type": "stream",
     "text": [
      "Mean loss: 177.3255530676482\n"
     ]
    },
    {
     "name": "stderr",
     "output_type": "stream",
     "text": [
      "\n"
     ]
    },
    {
     "name": "stdout",
     "output_type": "stream",
     "text": [
      "Train mAP: 0.008978727273643017\n"
     ]
    },
    {
     "name": "stderr",
     "output_type": "stream",
     "text": [
      "100%|██████████| 1034/1034 [03:43<00:00,  4.62it/s, loss=134]"
     ]
    },
    {
     "name": "stdout",
     "output_type": "stream",
     "text": [
      "Mean loss: 146.99232077091298\n"
     ]
    },
    {
     "name": "stderr",
     "output_type": "stream",
     "text": [
      "\n"
     ]
    },
    {
     "name": "stdout",
     "output_type": "stream",
     "text": [
      "Train mAP: 0.012206939980387688\n"
     ]
    },
    {
     "name": "stderr",
     "output_type": "stream",
     "text": [
      "100%|██████████| 1034/1034 [03:43<00:00,  4.62it/s, loss=97.9]"
     ]
    },
    {
     "name": "stdout",
     "output_type": "stream",
     "text": [
      "Mean loss: 136.9767972846557\n"
     ]
    },
    {
     "name": "stderr",
     "output_type": "stream",
     "text": [
      "\n"
     ]
    },
    {
     "name": "stdout",
     "output_type": "stream",
     "text": [
      "Train mAP: 0.018132973462343216\n"
     ]
    },
    {
     "name": "stderr",
     "output_type": "stream",
     "text": [
      "100%|██████████| 1034/1034 [03:43<00:00,  4.62it/s, loss=114]"
     ]
    },
    {
     "name": "stdout",
     "output_type": "stream",
     "text": [
      "Mean loss: 127.80346911004249\n"
     ]
    },
    {
     "name": "stderr",
     "output_type": "stream",
     "text": [
      "\n"
     ]
    },
    {
     "name": "stdout",
     "output_type": "stream",
     "text": [
      "Train mAP: 0.017956186085939407\n"
     ]
    },
    {
     "name": "stderr",
     "output_type": "stream",
     "text": [
      "100%|██████████| 1034/1034 [03:43<00:00,  4.62it/s, loss=113]"
     ]
    },
    {
     "name": "stdout",
     "output_type": "stream",
     "text": [
      "Mean loss: 121.30661092274886\n"
     ]
    },
    {
     "name": "stderr",
     "output_type": "stream",
     "text": [
      "\n"
     ]
    },
    {
     "name": "stdout",
     "output_type": "stream",
     "text": [
      "Train mAP: 0.029151227325201035\n"
     ]
    },
    {
     "name": "stderr",
     "output_type": "stream",
     "text": [
      "100%|██████████| 1034/1034 [03:44<00:00,  4.61it/s, loss=78.4]"
     ]
    },
    {
     "name": "stdout",
     "output_type": "stream",
     "text": [
      "Mean loss: 114.5652920780145\n"
     ]
    },
    {
     "name": "stderr",
     "output_type": "stream",
     "text": [
      "\n"
     ]
    },
    {
     "name": "stdout",
     "output_type": "stream",
     "text": [
      "Train mAP: 0.024432655423879623\n"
     ]
    },
    {
     "name": "stderr",
     "output_type": "stream",
     "text": [
      "100%|██████████| 1034/1034 [03:44<00:00,  4.61it/s, loss=114]"
     ]
    },
    {
     "name": "stdout",
     "output_type": "stream",
     "text": [
      "Mean loss: 107.8936731128213\n"
     ]
    },
    {
     "name": "stderr",
     "output_type": "stream",
     "text": [
      "\n"
     ]
    },
    {
     "name": "stdout",
     "output_type": "stream",
     "text": [
      "Train mAP: 0.046684347093105316\n"
     ]
    },
    {
     "name": "stderr",
     "output_type": "stream",
     "text": [
      "100%|██████████| 1034/1034 [03:44<00:00,  4.62it/s, loss=96.9]"
     ]
    },
    {
     "name": "stdout",
     "output_type": "stream",
     "text": [
      "Mean loss: 100.38122380402379\n"
     ]
    },
    {
     "name": "stderr",
     "output_type": "stream",
     "text": [
      "\n"
     ]
    },
    {
     "name": "stdout",
     "output_type": "stream",
     "text": [
      "Train mAP: 0.0839555636048317\n"
     ]
    },
    {
     "name": "stderr",
     "output_type": "stream",
     "text": [
      "100%|██████████| 1034/1034 [03:44<00:00,  4.61it/s, loss=100]"
     ]
    },
    {
     "name": "stdout",
     "output_type": "stream",
     "text": [
      "Mean loss: 92.29071253365197\n"
     ]
    },
    {
     "name": "stderr",
     "output_type": "stream",
     "text": [
      "\n"
     ]
    },
    {
     "name": "stdout",
     "output_type": "stream",
     "text": [
      "Train mAP: 0.05510873720049858\n"
     ]
    },
    {
     "name": "stderr",
     "output_type": "stream",
     "text": [
      "100%|██████████| 1034/1034 [03:44<00:00,  4.62it/s, loss=95.7]"
     ]
    },
    {
     "name": "stdout",
     "output_type": "stream",
     "text": [
      "Mean loss: 82.08097767414853\n"
     ]
    },
    {
     "name": "stderr",
     "output_type": "stream",
     "text": [
      "\n"
     ]
    },
    {
     "name": "stdout",
     "output_type": "stream",
     "text": [
      "Train mAP: 0.14213599264621735\n"
     ]
    },
    {
     "name": "stderr",
     "output_type": "stream",
     "text": [
      "100%|██████████| 1034/1034 [03:44<00:00,  4.61it/s, loss=55]"
     ]
    },
    {
     "name": "stdout",
     "output_type": "stream",
     "text": [
      "Mean loss: 74.36971833028001\n"
     ]
    },
    {
     "name": "stderr",
     "output_type": "stream",
     "text": [
      "\n"
     ]
    },
    {
     "name": "stdout",
     "output_type": "stream",
     "text": [
      "Train mAP: 0.0960586741566658\n"
     ]
    },
    {
     "name": "stderr",
     "output_type": "stream",
     "text": [
      "100%|██████████| 1034/1034 [03:44<00:00,  4.61it/s, loss=60.8]"
     ]
    },
    {
     "name": "stdout",
     "output_type": "stream",
     "text": [
      "Mean loss: 74.43704508812792\n"
     ]
    },
    {
     "name": "stderr",
     "output_type": "stream",
     "text": [
      "\n"
     ]
    },
    {
     "name": "stdout",
     "output_type": "stream",
     "text": [
      "Train mAP: 0.1824055314064026\n"
     ]
    },
    {
     "name": "stderr",
     "output_type": "stream",
     "text": [
      "100%|██████████| 1034/1034 [03:44<00:00,  4.62it/s, loss=49.3]"
     ]
    },
    {
     "name": "stdout",
     "output_type": "stream",
     "text": [
      "Mean loss: 61.70261240282188\n"
     ]
    },
    {
     "name": "stderr",
     "output_type": "stream",
     "text": [
      "\n"
     ]
    },
    {
     "name": "stdout",
     "output_type": "stream",
     "text": [
      "Train mAP: 0.2571789026260376\n"
     ]
    },
    {
     "name": "stderr",
     "output_type": "stream",
     "text": [
      "100%|██████████| 1034/1034 [03:44<00:00,  4.61it/s, loss=49.9]"
     ]
    },
    {
     "name": "stdout",
     "output_type": "stream",
     "text": [
      "Mean loss: 53.47587284589874\n"
     ]
    },
    {
     "name": "stderr",
     "output_type": "stream",
     "text": [
      "\n"
     ]
    },
    {
     "name": "stdout",
     "output_type": "stream",
     "text": [
      "Train mAP: 0.2101844847202301\n"
     ]
    },
    {
     "name": "stderr",
     "output_type": "stream",
     "text": [
      "100%|██████████| 1034/1034 [03:43<00:00,  4.62it/s, loss=52.4]"
     ]
    },
    {
     "name": "stdout",
     "output_type": "stream",
     "text": [
      "Mean loss: 48.12825319153659\n"
     ]
    },
    {
     "name": "stderr",
     "output_type": "stream",
     "text": [
      "\n"
     ]
    },
    {
     "name": "stdout",
     "output_type": "stream",
     "text": [
      "Train mAP: 0.38340264558792114\n"
     ]
    },
    {
     "name": "stderr",
     "output_type": "stream",
     "text": [
      "100%|██████████| 1034/1034 [03:44<00:00,  4.61it/s, loss=47.7]"
     ]
    },
    {
     "name": "stdout",
     "output_type": "stream",
     "text": [
      "Mean loss: 45.541358302133\n"
     ]
    },
    {
     "name": "stderr",
     "output_type": "stream",
     "text": [
      "\n"
     ]
    },
    {
     "name": "stdout",
     "output_type": "stream",
     "text": [
      "Train mAP: 0.4989852011203766\n"
     ]
    },
    {
     "name": "stderr",
     "output_type": "stream",
     "text": [
      "100%|██████████| 1034/1034 [03:44<00:00,  4.61it/s, loss=47.8]"
     ]
    },
    {
     "name": "stdout",
     "output_type": "stream",
     "text": [
      "Mean loss: 40.276471351977705\n"
     ]
    },
    {
     "name": "stderr",
     "output_type": "stream",
     "text": [
      "\n"
     ]
    },
    {
     "name": "stdout",
     "output_type": "stream",
     "text": [
      "Train mAP: 0.3730776309967041\n"
     ]
    },
    {
     "name": "stderr",
     "output_type": "stream",
     "text": [
      "100%|██████████| 1034/1034 [03:44<00:00,  4.61it/s, loss=59.8]"
     ]
    },
    {
     "name": "stdout",
     "output_type": "stream",
     "text": [
      "Mean loss: 38.46352155711249\n"
     ]
    },
    {
     "name": "stderr",
     "output_type": "stream",
     "text": [
      "\n"
     ]
    },
    {
     "name": "stdout",
     "output_type": "stream",
     "text": [
      "Train mAP: 0.44586506485939026\n"
     ]
    },
    {
     "name": "stderr",
     "output_type": "stream",
     "text": [
      "100%|██████████| 1034/1034 [03:44<00:00,  4.61it/s, loss=31.5]"
     ]
    },
    {
     "name": "stdout",
     "output_type": "stream",
     "text": [
      "Mean loss: 35.578546343274\n"
     ]
    },
    {
     "name": "stderr",
     "output_type": "stream",
     "text": [
      "\n"
     ]
    },
    {
     "name": "stdout",
     "output_type": "stream",
     "text": [
      "Train mAP: 0.5401550531387329\n"
     ]
    },
    {
     "name": "stderr",
     "output_type": "stream",
     "text": [
      "100%|██████████| 1034/1034 [03:44<00:00,  4.61it/s, loss=26.7]"
     ]
    },
    {
     "name": "stdout",
     "output_type": "stream",
     "text": [
      "Mean loss: 33.56065574697646\n"
     ]
    },
    {
     "name": "stderr",
     "output_type": "stream",
     "text": [
      "\n"
     ]
    },
    {
     "name": "stdout",
     "output_type": "stream",
     "text": [
      "Train mAP: 0.5587060451507568\n"
     ]
    },
    {
     "name": "stderr",
     "output_type": "stream",
     "text": [
      "100%|██████████| 1034/1034 [03:44<00:00,  4.61it/s, loss=28.7]"
     ]
    },
    {
     "name": "stdout",
     "output_type": "stream",
     "text": [
      "Mean loss: 28.11477583750535\n"
     ]
    },
    {
     "name": "stderr",
     "output_type": "stream",
     "text": [
      "\n"
     ]
    },
    {
     "name": "stdout",
     "output_type": "stream",
     "text": [
      "Train mAP: 0.4179399907588959\n"
     ]
    },
    {
     "name": "stderr",
     "output_type": "stream",
     "text": [
      "100%|██████████| 1034/1034 [03:44<00:00,  4.61it/s, loss=27.2]"
     ]
    },
    {
     "name": "stdout",
     "output_type": "stream",
     "text": [
      "Mean loss: 26.544587916516242\n"
     ]
    },
    {
     "name": "stderr",
     "output_type": "stream",
     "text": [
      "\n"
     ]
    },
    {
     "name": "stdout",
     "output_type": "stream",
     "text": [
      "Train mAP: 0.56122225522995\n"
     ]
    },
    {
     "name": "stderr",
     "output_type": "stream",
     "text": [
      "100%|██████████| 1034/1034 [03:44<00:00,  4.61it/s, loss=20.3]"
     ]
    },
    {
     "name": "stdout",
     "output_type": "stream",
     "text": [
      "Mean loss: 26.335964803308308\n"
     ]
    },
    {
     "name": "stderr",
     "output_type": "stream",
     "text": [
      "\n"
     ]
    },
    {
     "name": "stdout",
     "output_type": "stream",
     "text": [
      "Train mAP: 0.5786639451980591\n"
     ]
    },
    {
     "name": "stderr",
     "output_type": "stream",
     "text": [
      "100%|██████████| 1034/1034 [03:44<00:00,  4.61it/s, loss=19]"
     ]
    },
    {
     "name": "stdout",
     "output_type": "stream",
     "text": [
      "Mean loss: 24.4210443137001\n"
     ]
    },
    {
     "name": "stderr",
     "output_type": "stream",
     "text": [
      "\n"
     ]
    },
    {
     "name": "stdout",
     "output_type": "stream",
     "text": [
      "Train mAP: 0.7774683237075806\n"
     ]
    },
    {
     "name": "stderr",
     "output_type": "stream",
     "text": [
      "100%|██████████| 1034/1034 [03:44<00:00,  4.61it/s, loss=30.7]"
     ]
    },
    {
     "name": "stdout",
     "output_type": "stream",
     "text": [
      "Mean loss: 21.9092670224852\n"
     ]
    },
    {
     "name": "stderr",
     "output_type": "stream",
     "text": [
      "\n"
     ]
    },
    {
     "name": "stdout",
     "output_type": "stream",
     "text": [
      "Train mAP: 0.5219747424125671\n"
     ]
    },
    {
     "name": "stderr",
     "output_type": "stream",
     "text": [
      "100%|██████████| 1034/1034 [03:44<00:00,  4.61it/s, loss=22.7]"
     ]
    },
    {
     "name": "stdout",
     "output_type": "stream",
     "text": [
      "Mean loss: 24.6402049110752\n"
     ]
    },
    {
     "name": "stderr",
     "output_type": "stream",
     "text": [
      "\n"
     ]
    },
    {
     "name": "stdout",
     "output_type": "stream",
     "text": [
      "Train mAP: 0.7725122570991516\n"
     ]
    },
    {
     "name": "stderr",
     "output_type": "stream",
     "text": [
      "100%|██████████| 1034/1034 [03:44<00:00,  4.61it/s, loss=18.1]"
     ]
    },
    {
     "name": "stdout",
     "output_type": "stream",
     "text": [
      "Mean loss: 20.148487822460712\n"
     ]
    },
    {
     "name": "stderr",
     "output_type": "stream",
     "text": [
      "\n"
     ]
    },
    {
     "name": "stdout",
     "output_type": "stream",
     "text": [
      "Train mAP: 0.797132670879364\n"
     ]
    },
    {
     "name": "stderr",
     "output_type": "stream",
     "text": [
      "100%|██████████| 1034/1034 [03:44<00:00,  4.61it/s, loss=17.1]"
     ]
    },
    {
     "name": "stdout",
     "output_type": "stream",
     "text": [
      "Mean loss: 18.708238326834525\n"
     ]
    },
    {
     "name": "stderr",
     "output_type": "stream",
     "text": [
      "\n"
     ]
    },
    {
     "name": "stdout",
     "output_type": "stream",
     "text": [
      "Train mAP: 0.732369065284729\n"
     ]
    },
    {
     "name": "stderr",
     "output_type": "stream",
     "text": [
      "100%|██████████| 1034/1034 [03:44<00:00,  4.61it/s, loss=14.5]"
     ]
    },
    {
     "name": "stdout",
     "output_type": "stream",
     "text": [
      "Mean loss: 17.973112799904563\n"
     ]
    },
    {
     "name": "stderr",
     "output_type": "stream",
     "text": [
      "\n"
     ]
    },
    {
     "name": "stdout",
     "output_type": "stream",
     "text": [
      "Train mAP: 0.7988958954811096\n"
     ]
    },
    {
     "name": "stderr",
     "output_type": "stream",
     "text": [
      "100%|██████████| 1034/1034 [03:44<00:00,  4.61it/s, loss=26.2]"
     ]
    },
    {
     "name": "stdout",
     "output_type": "stream",
     "text": [
      "Mean loss: 16.362162077219388\n"
     ]
    },
    {
     "name": "stderr",
     "output_type": "stream",
     "text": [
      "\n"
     ]
    },
    {
     "name": "stdout",
     "output_type": "stream",
     "text": [
      "Train mAP: 0.24071645736694336\n"
     ]
    },
    {
     "name": "stderr",
     "output_type": "stream",
     "text": [
      "100%|██████████| 1034/1034 [03:44<00:00,  4.61it/s, loss=11.6]"
     ]
    },
    {
     "name": "stdout",
     "output_type": "stream",
     "text": [
      "Mean loss: 15.564261704395081\n"
     ]
    },
    {
     "name": "stderr",
     "output_type": "stream",
     "text": [
      "\n"
     ]
    },
    {
     "name": "stdout",
     "output_type": "stream",
     "text": [
      "Train mAP: 0.760644793510437\n"
     ]
    },
    {
     "name": "stderr",
     "output_type": "stream",
     "text": [
      "100%|██████████| 1034/1034 [03:44<00:00,  4.61it/s, loss=11.2]"
     ]
    },
    {
     "name": "stdout",
     "output_type": "stream",
     "text": [
      "Mean loss: 15.052782716787991\n"
     ]
    },
    {
     "name": "stderr",
     "output_type": "stream",
     "text": [
      "\n"
     ]
    },
    {
     "name": "stdout",
     "output_type": "stream",
     "text": [
      "Train mAP: 0.8444865942001343\n"
     ]
    },
    {
     "name": "stderr",
     "output_type": "stream",
     "text": [
      "100%|██████████| 1034/1034 [03:44<00:00,  4.61it/s, loss=11.4]"
     ]
    },
    {
     "name": "stdout",
     "output_type": "stream",
     "text": [
      "Mean loss: 15.245172144135378\n"
     ]
    },
    {
     "name": "stderr",
     "output_type": "stream",
     "text": [
      "\n"
     ]
    },
    {
     "name": "stdout",
     "output_type": "stream",
     "text": [
      "Train mAP: 0.7975980639457703\n"
     ]
    },
    {
     "name": "stderr",
     "output_type": "stream",
     "text": [
      "100%|██████████| 1034/1034 [03:44<00:00,  4.61it/s, loss=11.4]"
     ]
    },
    {
     "name": "stdout",
     "output_type": "stream",
     "text": [
      "Mean loss: 13.246508337312326\n"
     ]
    },
    {
     "name": "stderr",
     "output_type": "stream",
     "text": [
      "\n"
     ]
    },
    {
     "name": "stdout",
     "output_type": "stream",
     "text": [
      "Train mAP: 0.6999713182449341\n"
     ]
    },
    {
     "name": "stderr",
     "output_type": "stream",
     "text": [
      "100%|██████████| 1034/1034 [03:44<00:00,  4.61it/s, loss=12.8]"
     ]
    },
    {
     "name": "stdout",
     "output_type": "stream",
     "text": [
      "Mean loss: 13.169850647334204\n"
     ]
    },
    {
     "name": "stderr",
     "output_type": "stream",
     "text": [
      "\n"
     ]
    },
    {
     "name": "stdout",
     "output_type": "stream",
     "text": [
      "Train mAP: 0.6691439151763916\n"
     ]
    },
    {
     "name": "stderr",
     "output_type": "stream",
     "text": [
      "100%|██████████| 1034/1034 [03:44<00:00,  4.61it/s, loss=22.2]"
     ]
    },
    {
     "name": "stdout",
     "output_type": "stream",
     "text": [
      "Mean loss: 13.427156561347918\n"
     ]
    },
    {
     "name": "stderr",
     "output_type": "stream",
     "text": [
      "\n"
     ]
    },
    {
     "name": "stdout",
     "output_type": "stream",
     "text": [
      "Train mAP: 0.7896703481674194\n"
     ]
    },
    {
     "name": "stderr",
     "output_type": "stream",
     "text": [
      "100%|██████████| 1034/1034 [03:44<00:00,  4.61it/s, loss=6.99]"
     ]
    },
    {
     "name": "stdout",
     "output_type": "stream",
     "text": [
      "Mean loss: 11.61544348100629\n"
     ]
    },
    {
     "name": "stderr",
     "output_type": "stream",
     "text": [
      "\n"
     ]
    },
    {
     "name": "stdout",
     "output_type": "stream",
     "text": [
      "Train mAP: 0.7586524486541748\n"
     ]
    },
    {
     "name": "stderr",
     "output_type": "stream",
     "text": [
      "100%|██████████| 1034/1034 [03:44<00:00,  4.61it/s, loss=11.6]"
     ]
    },
    {
     "name": "stdout",
     "output_type": "stream",
     "text": [
      "Mean loss: 11.039782521803097\n"
     ]
    },
    {
     "name": "stderr",
     "output_type": "stream",
     "text": [
      "\n"
     ]
    },
    {
     "name": "stdout",
     "output_type": "stream",
     "text": [
      "Train mAP: 0.8283485174179077\n"
     ]
    },
    {
     "name": "stderr",
     "output_type": "stream",
     "text": [
      "100%|██████████| 1034/1034 [03:44<00:00,  4.61it/s, loss=15.3]"
     ]
    },
    {
     "name": "stdout",
     "output_type": "stream",
     "text": [
      "Mean loss: 11.57915877327467\n"
     ]
    },
    {
     "name": "stderr",
     "output_type": "stream",
     "text": [
      "\n"
     ]
    },
    {
     "name": "stdout",
     "output_type": "stream",
     "text": [
      "Train mAP: 0.8712397813796997\n"
     ]
    },
    {
     "name": "stderr",
     "output_type": "stream",
     "text": [
      "100%|██████████| 1034/1034 [03:44<00:00,  4.61it/s, loss=8.62]"
     ]
    },
    {
     "name": "stdout",
     "output_type": "stream",
     "text": [
      "Mean loss: 9.617572945367899\n"
     ]
    },
    {
     "name": "stderr",
     "output_type": "stream",
     "text": [
      "\n"
     ]
    },
    {
     "name": "stdout",
     "output_type": "stream",
     "text": [
      "Train mAP: 0.8893446922302246\n"
     ]
    },
    {
     "name": "stderr",
     "output_type": "stream",
     "text": [
      "100%|██████████| 1034/1034 [03:44<00:00,  4.61it/s, loss=6.39]"
     ]
    },
    {
     "name": "stdout",
     "output_type": "stream",
     "text": [
      "Mean loss: 9.084028405423782\n"
     ]
    },
    {
     "name": "stderr",
     "output_type": "stream",
     "text": [
      "\n"
     ]
    },
    {
     "name": "stdout",
     "output_type": "stream",
     "text": [
      "Train mAP: 0.8972775340080261\n"
     ]
    },
    {
     "name": "stderr",
     "output_type": "stream",
     "text": [
      "100%|██████████| 1034/1034 [03:44<00:00,  4.61it/s, loss=7.25]"
     ]
    },
    {
     "name": "stdout",
     "output_type": "stream",
     "text": [
      "Mean loss: 9.143129858795403\n"
     ]
    },
    {
     "name": "stderr",
     "output_type": "stream",
     "text": [
      "\n"
     ]
    },
    {
     "name": "stdout",
     "output_type": "stream",
     "text": [
      "Train mAP: 0.8878387212753296\n"
     ]
    },
    {
     "name": "stderr",
     "output_type": "stream",
     "text": [
      "100%|██████████| 1034/1034 [03:44<00:00,  4.61it/s, loss=5.85]"
     ]
    },
    {
     "name": "stdout",
     "output_type": "stream",
     "text": [
      "Mean loss: 8.281643011583812\n"
     ]
    },
    {
     "name": "stderr",
     "output_type": "stream",
     "text": [
      "\n"
     ]
    },
    {
     "name": "stdout",
     "output_type": "stream",
     "text": [
      "Train mAP: 0.8879579305648804\n"
     ]
    },
    {
     "name": "stderr",
     "output_type": "stream",
     "text": [
      "100%|██████████| 1034/1034 [03:44<00:00,  4.61it/s, loss=11.6]"
     ]
    },
    {
     "name": "stdout",
     "output_type": "stream",
     "text": [
      "Mean loss: 8.11305010941319\n"
     ]
    },
    {
     "name": "stderr",
     "output_type": "stream",
     "text": [
      "\n"
     ]
    },
    {
     "name": "stdout",
     "output_type": "stream",
     "text": [
      "Train mAP: 0.8759926557540894\n"
     ]
    },
    {
     "name": "stderr",
     "output_type": "stream",
     "text": [
      "100%|██████████| 1034/1034 [03:44<00:00,  4.61it/s, loss=6.38]"
     ]
    },
    {
     "name": "stdout",
     "output_type": "stream",
     "text": [
      "Mean loss: 8.578974003948602\n"
     ]
    },
    {
     "name": "stderr",
     "output_type": "stream",
     "text": [
      "\n"
     ]
    },
    {
     "name": "stdout",
     "output_type": "stream",
     "text": [
      "Train mAP: 0.9001914262771606\n",
      "=> Saving checkpoint\n"
     ]
    },
    {
     "name": "stderr",
     "output_type": "stream",
     "text": [
      "100%|██████████| 1034/1034 [03:44<00:00,  4.61it/s, loss=5.78]"
     ]
    },
    {
     "name": "stdout",
     "output_type": "stream",
     "text": [
      "Mean loss: 8.300750849094797\n"
     ]
    },
    {
     "name": "stderr",
     "output_type": "stream",
     "text": [
      "\n"
     ]
    },
    {
     "name": "stdout",
     "output_type": "stream",
     "text": [
      "Train mAP: 0.8963346481323242\n"
     ]
    },
    {
     "name": "stderr",
     "output_type": "stream",
     "text": [
      "100%|██████████| 1034/1034 [03:44<00:00,  4.61it/s, loss=12.7]"
     ]
    },
    {
     "name": "stdout",
     "output_type": "stream",
     "text": [
      "Mean loss: 7.56186931091766\n"
     ]
    },
    {
     "name": "stderr",
     "output_type": "stream",
     "text": [
      "\n"
     ]
    },
    {
     "name": "stdout",
     "output_type": "stream",
     "text": [
      "Train mAP: 0.8756088018417358\n"
     ]
    },
    {
     "name": "stderr",
     "output_type": "stream",
     "text": [
      "100%|██████████| 1034/1034 [03:44<00:00,  4.61it/s, loss=7.53]"
     ]
    },
    {
     "name": "stdout",
     "output_type": "stream",
     "text": [
      "Mean loss: 7.2771030325493\n"
     ]
    },
    {
     "name": "stderr",
     "output_type": "stream",
     "text": [
      "\n"
     ]
    },
    {
     "name": "stdout",
     "output_type": "stream",
     "text": [
      "Train mAP: 0.9029765129089355\n",
      "=> Saving checkpoint\n"
     ]
    },
    {
     "name": "stderr",
     "output_type": "stream",
     "text": [
      "100%|██████████| 1034/1034 [03:44<00:00,  4.61it/s, loss=5.53]"
     ]
    },
    {
     "name": "stdout",
     "output_type": "stream",
     "text": [
      "Mean loss: 6.391181911675105\n"
     ]
    },
    {
     "name": "stderr",
     "output_type": "stream",
     "text": [
      "\n"
     ]
    },
    {
     "name": "stdout",
     "output_type": "stream",
     "text": [
      "Train mAP: 0.9108569025993347\n",
      "=> Saving checkpoint\n"
     ]
    },
    {
     "name": "stderr",
     "output_type": "stream",
     "text": [
      "100%|██████████| 1034/1034 [03:44<00:00,  4.61it/s, loss=5.04]"
     ]
    },
    {
     "name": "stdout",
     "output_type": "stream",
     "text": [
      "Mean loss: 6.866652527215172\n"
     ]
    },
    {
     "name": "stderr",
     "output_type": "stream",
     "text": [
      "\n"
     ]
    },
    {
     "name": "stdout",
     "output_type": "stream",
     "text": [
      "Train mAP: 0.8929629325866699\n"
     ]
    },
    {
     "name": "stderr",
     "output_type": "stream",
     "text": [
      "100%|██████████| 1034/1034 [03:44<00:00,  4.61it/s, loss=5.58]"
     ]
    },
    {
     "name": "stdout",
     "output_type": "stream",
     "text": [
      "Mean loss: 6.856483788278163\n"
     ]
    },
    {
     "name": "stderr",
     "output_type": "stream",
     "text": [
      "\n"
     ]
    },
    {
     "name": "stdout",
     "output_type": "stream",
     "text": [
      "Train mAP: 0.8971091508865356\n"
     ]
    },
    {
     "name": "stderr",
     "output_type": "stream",
     "text": [
      "100%|██████████| 1034/1034 [03:44<00:00,  4.61it/s, loss=4.26]"
     ]
    },
    {
     "name": "stdout",
     "output_type": "stream",
     "text": [
      "Mean loss: 6.16012772900454\n"
     ]
    },
    {
     "name": "stderr",
     "output_type": "stream",
     "text": [
      "\n"
     ]
    },
    {
     "name": "stdout",
     "output_type": "stream",
     "text": [
      "Train mAP: 0.9042024612426758\n",
      "=> Saving checkpoint\n"
     ]
    },
    {
     "name": "stderr",
     "output_type": "stream",
     "text": [
      "100%|██████████| 1034/1034 [03:44<00:00,  4.62it/s, loss=4.23]"
     ]
    },
    {
     "name": "stdout",
     "output_type": "stream",
     "text": [
      "Mean loss: 5.672442492940671\n"
     ]
    },
    {
     "name": "stderr",
     "output_type": "stream",
     "text": [
      "\n"
     ]
    },
    {
     "name": "stdout",
     "output_type": "stream",
     "text": [
      "Train mAP: 0.8768950700759888\n"
     ]
    },
    {
     "name": "stderr",
     "output_type": "stream",
     "text": [
      "100%|██████████| 1034/1034 [03:44<00:00,  4.61it/s, loss=4.95]"
     ]
    },
    {
     "name": "stdout",
     "output_type": "stream",
     "text": [
      "Mean loss: 5.723458742265314\n"
     ]
    },
    {
     "name": "stderr",
     "output_type": "stream",
     "text": [
      "\n"
     ]
    },
    {
     "name": "stdout",
     "output_type": "stream",
     "text": [
      "Train mAP: 0.9071187973022461\n",
      "=> Saving checkpoint\n"
     ]
    },
    {
     "name": "stderr",
     "output_type": "stream",
     "text": [
      "100%|██████████| 1034/1034 [03:44<00:00,  4.60it/s, loss=9.5]"
     ]
    },
    {
     "name": "stdout",
     "output_type": "stream",
     "text": [
      "Mean loss: 5.633504157601288\n"
     ]
    },
    {
     "name": "stderr",
     "output_type": "stream",
     "text": [
      "\n"
     ]
    },
    {
     "name": "stdout",
     "output_type": "stream",
     "text": [
      "Train mAP: 0.9096616506576538\n",
      "=> Saving checkpoint\n"
     ]
    },
    {
     "name": "stderr",
     "output_type": "stream",
     "text": [
      "100%|██████████| 1034/1034 [03:44<00:00,  4.60it/s, loss=5.15]"
     ]
    },
    {
     "name": "stdout",
     "output_type": "stream",
     "text": [
      "Mean loss: 5.628042174722978\n"
     ]
    },
    {
     "name": "stderr",
     "output_type": "stream",
     "text": [
      "\n"
     ]
    },
    {
     "name": "stdout",
     "output_type": "stream",
     "text": [
      "Train mAP: 0.9077215194702148\n",
      "=> Saving checkpoint\n"
     ]
    },
    {
     "name": "stderr",
     "output_type": "stream",
     "text": [
      "100%|██████████| 1034/1034 [03:44<00:00,  4.60it/s, loss=7.68]"
     ]
    },
    {
     "name": "stdout",
     "output_type": "stream",
     "text": [
      "Mean loss: 5.813807269590735\n"
     ]
    },
    {
     "name": "stderr",
     "output_type": "stream",
     "text": [
      "\n"
     ]
    },
    {
     "name": "stdout",
     "output_type": "stream",
     "text": [
      "Train mAP: 0.9014350175857544\n",
      "=> Saving checkpoint\n"
     ]
    },
    {
     "name": "stderr",
     "output_type": "stream",
     "text": [
      "100%|██████████| 1034/1034 [03:44<00:00,  4.61it/s, loss=6.44]"
     ]
    },
    {
     "name": "stdout",
     "output_type": "stream",
     "text": [
      "Mean loss: 5.960565127533225\n"
     ]
    },
    {
     "name": "stderr",
     "output_type": "stream",
     "text": [
      "\n"
     ]
    },
    {
     "name": "stdout",
     "output_type": "stream",
     "text": [
      "Train mAP: 0.9021868705749512\n",
      "=> Saving checkpoint\n"
     ]
    },
    {
     "name": "stderr",
     "output_type": "stream",
     "text": [
      "100%|██████████| 1034/1034 [03:44<00:00,  4.61it/s, loss=6.52]"
     ]
    },
    {
     "name": "stdout",
     "output_type": "stream",
     "text": [
      "Mean loss: 4.87838169084988\n"
     ]
    },
    {
     "name": "stderr",
     "output_type": "stream",
     "text": [
      "\n"
     ]
    },
    {
     "name": "stdout",
     "output_type": "stream",
     "text": [
      "Train mAP: 0.9075242877006531\n",
      "=> Saving checkpoint\n"
     ]
    },
    {
     "name": "stderr",
     "output_type": "stream",
     "text": [
      "100%|██████████| 1034/1034 [03:44<00:00,  4.61it/s, loss=4.74]"
     ]
    },
    {
     "name": "stdout",
     "output_type": "stream",
     "text": [
      "Mean loss: 5.942686645389756\n"
     ]
    },
    {
     "name": "stderr",
     "output_type": "stream",
     "text": [
      "\n"
     ]
    }
   ],
   "source": [
    "main()"
   ]
  },
  {
   "cell_type": "code",
   "execution_count": 28,
   "id": "f82bd2d4",
   "metadata": {
    "execution": {
     "iopub.execute_input": "2023-10-26T19:45:40.540419Z",
     "iopub.status.busy": "2023-10-26T19:45:40.540019Z",
     "iopub.status.idle": "2023-10-26T19:45:40.544665Z",
     "shell.execute_reply": "2023-10-26T19:45:40.543798Z"
    },
    "papermill": {
     "duration": 9.698645,
     "end_time": "2023-10-26T19:45:40.546606",
     "exception": false,
     "start_time": "2023-10-26T19:45:30.847961",
     "status": "completed"
    },
    "tags": []
   },
   "outputs": [],
   "source": [
    "## checking test set performance"
   ]
  },
  {
   "cell_type": "code",
   "execution_count": 29,
   "id": "5986927b",
   "metadata": {
    "execution": {
     "iopub.execute_input": "2023-10-26T19:46:00.240691Z",
     "iopub.status.busy": "2023-10-26T19:46:00.240299Z",
     "iopub.status.idle": "2023-10-26T19:46:00.253482Z",
     "shell.execute_reply": "2023-10-26T19:46:00.252803Z"
    },
    "papermill": {
     "duration": 9.842342,
     "end_time": "2023-10-26T19:46:00.255267",
     "exception": false,
     "start_time": "2023-10-26T19:45:50.412925",
     "status": "completed"
    },
    "tags": []
   },
   "outputs": [],
   "source": [
    "test_dataset = VOCDataset(\n",
    "    csv_file=\"/kaggle/working/test.csv\",\n",
    "    transform=transform,\n",
    "    img_dir=IMG_DIR,\n",
    "    label_dir=LABEL_DIR,\n",
    ")\n",
    "test_loader = DataLoader(\n",
    "    dataset=test_dataset,\n",
    "    batch_size=BATCH_SIZE,\n",
    "    num_workers=NUM_WORKERS,\n",
    "    pin_memory=PIN_MEMORY,\n",
    "    shuffle=True,\n",
    "    drop_last=True,\n",
    ")"
   ]
  },
  {
   "cell_type": "code",
   "execution_count": 30,
   "id": "5b71cf19",
   "metadata": {
    "execution": {
     "iopub.execute_input": "2023-10-26T19:46:20.301674Z",
     "iopub.status.busy": "2023-10-26T19:46:20.301289Z",
     "iopub.status.idle": "2023-10-26T19:46:55.586168Z",
     "shell.execute_reply": "2023-10-26T19:46:55.584896Z"
    },
    "papermill": {
     "duration": 45.430833,
     "end_time": "2023-10-26T19:46:55.588349",
     "exception": false,
     "start_time": "2023-10-26T19:46:10.157516",
     "status": "completed"
    },
    "tags": []
   },
   "outputs": [
    {
     "name": "stdout",
     "output_type": "stream",
     "text": [
      "Test mAP: 0.06383010745048523\n"
     ]
    }
   ],
   "source": [
    "model.eval()\n",
    "pred_boxes, target_boxes = get_bboxes(\n",
    "        test_loader, model, iou_threshold=0.5, prob_threshold=0.5\n",
    "    )\n",
    "test_mean_avg_precision = mAP(\n",
    "        pred_boxes, target_boxes, iou_threshold=0.5, box_format=\"midpoint\", num_classes=NUM_CLASSES\n",
    "    )\n",
    "print(f\"Test mAP: {test_mean_avg_precision}\")\n",
    "#for batch_idx, (x, y) in enumerate(tqdm(test_loader)):\n",
    "        #x, y = x.to(DEVICE), y.to(DEVICE)\n",
    "        #out = model(x)\n",
    "        #loss = loss_fn(out, y)\n",
    "        #mean_loss.append(loss.item())\n",
    "        #optimizer.zero_grad()\n",
    "        #loss.backward()\n",
    "        #optimizer.step()\n"
   ]
  },
  {
   "cell_type": "code",
   "execution_count": null,
   "id": "3787f3a8",
   "metadata": {
    "papermill": {
     "duration": 9.880517,
     "end_time": "2023-10-26T19:47:15.296452",
     "exception": false,
     "start_time": "2023-10-26T19:47:05.415935",
     "status": "completed"
    },
    "tags": []
   },
   "outputs": [],
   "source": []
  }
 ],
 "metadata": {
  "kernelspec": {
   "display_name": "Python 3",
   "language": "python",
   "name": "python3"
  },
  "language_info": {
   "codemirror_mode": {
    "name": "ipython",
    "version": 3
   },
   "file_extension": ".py",
   "mimetype": "text/x-python",
   "name": "python",
   "nbconvert_exporter": "python",
   "pygments_lexer": "ipython3",
   "version": "3.10.12"
  },
  "papermill": {
   "default_parameters": {},
   "duration": 24109.417164,
   "end_time": "2023-10-26T19:47:27.692312",
   "environment_variables": {},
   "exception": null,
   "input_path": "__notebook__.ipynb",
   "output_path": "__notebook__.ipynb",
   "parameters": {},
   "start_time": "2023-10-26T13:05:38.275148",
   "version": "2.4.0"
  }
 },
 "nbformat": 4,
 "nbformat_minor": 5
}
